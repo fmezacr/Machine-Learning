{
  "nbformat": 4,
  "nbformat_minor": 0,
  "metadata": {
    "colab": {
      "provenance": [],
      "authorship_tag": "ABX9TyM5VdHJ4PlSNXM+nu78nkMn",
      "include_colab_link": true
    },
    "kernelspec": {
      "name": "python3",
      "display_name": "Python 3"
    },
    "language_info": {
      "name": "python"
    }
  },
  "cells": [
    {
      "cell_type": "markdown",
      "metadata": {
        "id": "view-in-github",
        "colab_type": "text"
      },
      "source": [
        "<a href=\"https://colab.research.google.com/github/fmezacr/machinelearning/blob/main/Matriz_Confusion.ipynb\" target=\"_parent\"><img src=\"https://colab.research.google.com/assets/colab-badge.svg\" alt=\"Open In Colab\"/></a>"
      ]
    },
    {
      "cell_type": "markdown",
      "source": [
        "\n",
        "---\n",
        "\n",
        "<div style=\"font-size:small;\">\n",
        "\n",
        "MIT License\n",
        "\n",
        "Copyright (c) [2024] Felipe Meza-Obando\n",
        "\n",
        "*Permission is hereby granted, free of charge, to any person obtaining a copy\n",
        "of this software and associated documentation files (the \"Software\"), to deal\n",
        "in the Software for educational purposes only. You must give author appropriate credit, provide a link to the license and source, and indicate if changes were made.*\n",
        "</div>\n",
        "\n",
        "---"
      ],
      "metadata": {
        "id": "wW5gY8sIoONx"
      }
    },
    {
      "cell_type": "markdown",
      "source": [
        "# **Tutorial: Evaluación de Modelos de Clasificación con Matriz de Confusión y Métricas Multiclase**\n",
        "### Autor: ***Felipe Meza-Obando***\n",
        "\n",
        "\n",
        "A continuación aprenderemos cómo evaluar el desempeño de un modelo de clasificación utilizando una de las herramientas más importantes en **Machine Learning**: la **matriz de confusión**. Junto con la matriz, también veremos cómo calcular y analizar métricas de evaluación esenciales como la **precisión**, **recall**, **F1-score** y **exactitud** (accuracy). Todas estas herramientas son clave para entender no solo cuántas predicciones fueron correctas, sino **dónde** y **por qué** el modelo comete errores.\n",
        "\n",
        "Los objetivos de este tutorial son:\n",
        "\n",
        "1. **Introducir la matriz de confusión** y su utilidad para analizar los errores y aciertos de un modelo en problemas de clasificación multiclase.\n",
        "2. **Explicar las métricas de evaluación**, como precisión, recall, F1-score, y cómo se utilizan para evaluar el rendimiento del modelo.\n",
        "3. **Visualizar gráficamente** los resultados del modelo mediante la matriz de confusión.\n",
        "4. **Aplicar estas herramientas a un caso práctico**: usaremos el dataset de **Human Activity Recognition Using Smartphones** para predecir actividades humanas basándonos en datos recolectados por sensores de smartphones.\n",
        "\n",
        "### **Estructura del Tutorial**:\n",
        "\n",
        "1. **Exploración del dataset**:\n",
        "   - Cargaremos el dataset de actividades humanas y revisaremos cómo está estructurado, qué características contiene y cuántas clases de actividades hay.\n",
        "   \n",
        "2. **Entrenamiento de un modelo de clasificación**:\n",
        "   - Entrenaremos un modelo de **Random Forest** para clasificar las actividades humanas basadas en las características de los datos de sensores.\n",
        "   \n",
        "3. **Cálculo de la Matriz de Confusión**:\n",
        "   - Generaremos la **matriz de confusión** para evaluar qué tan bien el modelo clasifica cada actividad y visualizaremos los errores mediante una representación gráfica.\n",
        "\n",
        "4. **Cálculo de las Métricas de Clasificación**:\n",
        "   - Calcularemos las métricas esenciales de precisión, recall y F1-score para cada clase y analizaremos cómo se comporta el modelo en cada una de las actividades.\n",
        "   \n",
        "5. **Conclusiones y mejoras**:\n",
        "   - Analizaremos los resultados del modelo y discutiremos posibles estrategias para mejorar el rendimiento basado en las observaciones de la matriz de confusión y las métricas.\n",
        "\n",
        "### **¿Por qué es importante este análisis?**\n",
        "En muchos casos, evaluar un modelo de clasificación simplemente con el porcentaje de aciertos (**accuracy**) no es suficiente, especialmente cuando trabajamos con **clases desbalanceadas** o cuando ciertos errores tienen más peso que otros. La matriz de confusión y las métricas de evaluación nos permiten:\n",
        "\n",
        "- **Entender a fondo** cómo se comporta el modelo con cada clase específica.\n",
        "- **Identificar confusiones comunes**: saber qué clases tienden a ser confundidas entre sí.\n",
        "- **Mejorar el modelo**: identificar patrones de error puede ayudarnos a ajustar el modelo, el preprocesamiento de datos o las técnicas de validación.\n",
        "\n",
        "### **Pasos a seguir**:\n",
        "\n",
        "1. **Carga del dataset**: Descargaremos y cargaremos los datos en nuestro entorno de trabajo.\n",
        "2. **Entrenamiento del modelo**: Entrenaremos un clasificador multiclase con el modelo de **Random Forest**.\n",
        "3. **Evaluación con la matriz de confusión**: Visualizaremos la matriz de confusión y explicaremos cómo interpretar los resultados.\n",
        "4. **Cálculo de métricas**: Obtendremos y analizaremos las métricas como precisión, recall y F1-score.\n",
        "5. **Análisis final**: Discutiremos los resultados obtenidos y cómo podríamos mejorar el rendimiento del modelo.\n",
        "\n"
      ],
      "metadata": {
        "id": "dgdL9BV_j49C"
      }
    },
    {
      "cell_type": "markdown",
      "source": [
        "Usaremos el dataset **Human Activity Recognition Using Smartphones**. El objetivo del dataset es clasificar correctamente diferentes actividades humanas (como caminar, estar de pie, sentarse, etc.) basándose en datos obtenidos de los sensores de acelerómetros y giroscopios de smartphones. Las señales registradas mientras los sujetos realizan las actividades se procesan para generar un conjunto de 561 características derivadas, que se utilizan para entrenar modelos de Machine Learning y predecir qué actividad está realizando una persona en un momento dado.\n",
        "\n",
        "### **Carga de los datos**\n",
        "\n",
        "Primero, vamos a cargar el dataset y revisar su estructura básica:"
      ],
      "metadata": {
        "id": "xHxzt2J7kb-B"
      }
    },
    {
      "cell_type": "code",
      "source": [
        "\n",
        "import pandas as pd\n",
        "from zipfile import ZipFile\n",
        "import requests\n",
        "from io import BytesIO\n",
        "\n",
        "# Descargar y extraer el archivo zip desde la UCI Machine Learning Repository\n",
        "url = 'https://archive.ics.uci.edu/ml/machine-learning-databases/00240/UCI%20HAR%20Dataset.zip'\n",
        "response = requests.get(url)\n",
        "zip_file = ZipFile(BytesIO(response.content))\n",
        "\n",
        "# Cargar los archivos de datos (X_train, y_train)\n",
        "X_train = pd.read_csv(zip_file.open('UCI HAR Dataset/train/X_train.txt'), sep='\\s+', header=None)\n",
        "y_train = pd.read_csv(zip_file.open('UCI HAR Dataset/train/y_train.txt'), sep='\\s+', header=None)\n",
        "\n",
        "# Cargar las etiquetas de las actividades\n",
        "activity_labels = pd.read_csv(zip_file.open('UCI HAR Dataset/activity_labels.txt'), sep='\\s+', header=None)\n",
        "\n",
        "# Ver las primeras filas de los datos\n",
        "print(X_train.head())\n",
        "print(y_train.head())\n"
      ],
      "metadata": {
        "colab": {
          "base_uri": "https://localhost:8080/"
        },
        "id": "40PgOpablT-P",
        "outputId": "cfe6f37d-b940-466d-f073-03a081897cb7"
      },
      "execution_count": 1,
      "outputs": [
        {
          "output_type": "stream",
          "name": "stdout",
          "text": [
            "        0         1         2         3         4         5         6    \\\n",
            "0  0.288585 -0.020294 -0.132905 -0.995279 -0.983111 -0.913526 -0.995112   \n",
            "1  0.278419 -0.016411 -0.123520 -0.998245 -0.975300 -0.960322 -0.998807   \n",
            "2  0.279653 -0.019467 -0.113462 -0.995380 -0.967187 -0.978944 -0.996520   \n",
            "3  0.279174 -0.026201 -0.123283 -0.996091 -0.983403 -0.990675 -0.997099   \n",
            "4  0.276629 -0.016570 -0.115362 -0.998139 -0.980817 -0.990482 -0.998321   \n",
            "\n",
            "        7         8         9    ...       551       552       553       554  \\\n",
            "0 -0.983185 -0.923527 -0.934724  ... -0.074323 -0.298676 -0.710304 -0.112754   \n",
            "1 -0.974914 -0.957686 -0.943068  ...  0.158075 -0.595051 -0.861499  0.053477   \n",
            "2 -0.963668 -0.977469 -0.938692  ...  0.414503 -0.390748 -0.760104 -0.118559   \n",
            "3 -0.982750 -0.989302 -0.938692  ...  0.404573 -0.117290 -0.482845 -0.036788   \n",
            "4 -0.979672 -0.990441 -0.942469  ...  0.087753 -0.351471 -0.699205  0.123320   \n",
            "\n",
            "        555       556       557       558       559       560  \n",
            "0  0.030400 -0.464761 -0.018446 -0.841247  0.179941 -0.058627  \n",
            "1 -0.007435 -0.732626  0.703511 -0.844788  0.180289 -0.054317  \n",
            "2  0.177899  0.100699  0.808529 -0.848933  0.180637 -0.049118  \n",
            "3 -0.012892  0.640011 -0.485366 -0.848649  0.181935 -0.047663  \n",
            "4  0.122542  0.693578 -0.615971 -0.847865  0.185151 -0.043892  \n",
            "\n",
            "[5 rows x 561 columns]\n",
            "   0\n",
            "0  5\n",
            "1  5\n",
            "2  5\n",
            "3  5\n",
            "4  5\n"
          ]
        }
      ]
    },
    {
      "cell_type": "markdown",
      "source": [
        "\n",
        "\n",
        "### **Dimensiones del dataset**\n",
        "\n",
        "Vamos a ver cuántas muestras y cuántas características tiene el dataset.\n",
        "\n"
      ],
      "metadata": {
        "id": "dIpvr2t9lbaY"
      }
    },
    {
      "cell_type": "code",
      "source": [
        "print(f\"Dimensiones del conjunto de entrenamiento: {X_train.shape}\")"
      ],
      "metadata": {
        "colab": {
          "base_uri": "https://localhost:8080/"
        },
        "id": "9rNBo_SFlsUv",
        "outputId": "2f02602b-67f0-448b-d996-6aebb94d549b"
      },
      "execution_count": 2,
      "outputs": [
        {
          "output_type": "stream",
          "name": "stdout",
          "text": [
            "Dimensiones del conjunto de entrenamiento: (7352, 561)\n"
          ]
        }
      ]
    },
    {
      "cell_type": "markdown",
      "source": [
        "**Resultado**:\n",
        "- **7,352 muestras** en el conjunto de entrenamiento.\n",
        "- **561 características** (derivadas de los sensores de acelerómetro y giroscopio del smartphone)."
      ],
      "metadata": {
        "id": "blAXD_wAlm9Q"
      }
    },
    {
      "cell_type": "markdown",
      "source": [
        "### **Distribución de las etiquetas de actividad**\n",
        "\n",
        "Para entender mejor cómo están distribuidas las diferentes clases de actividades, veamos un desglose del número de instancias por clase."
      ],
      "metadata": {
        "id": "Qtx6lvmil0-A"
      }
    },
    {
      "cell_type": "code",
      "source": [
        "\n",
        "# Renombrar la columna de las etiquetas de actividad\n",
        "y_train.columns = ['Activity']\n",
        "\n",
        "# Mostrar el número de instancias por actividad\n",
        "print(y_train['Activity'].value_counts())\n"
      ],
      "metadata": {
        "colab": {
          "base_uri": "https://localhost:8080/"
        },
        "id": "G-d7cUgZlnWY",
        "outputId": "a653d520-45d2-4429-80ad-d03cd9e8ca56"
      },
      "execution_count": 3,
      "outputs": [
        {
          "output_type": "stream",
          "name": "stdout",
          "text": [
            "Activity\n",
            "6    1407\n",
            "5    1374\n",
            "4    1286\n",
            "1    1226\n",
            "2    1073\n",
            "3     986\n",
            "Name: count, dtype: int64\n"
          ]
        }
      ]
    },
    {
      "cell_type": "markdown",
      "source": [
        "**Resultado** (Ejemplo):\n",
        "- La actividad **6 (Laying)** tiene más instancias.\n",
        "- La actividad **3 (Walking Downstairs)** tiene menos ejemplos.\n",
        "\n"
      ],
      "metadata": {
        "id": "25i_T1C0l__X"
      }
    },
    {
      "cell_type": "markdown",
      "source": [
        "### **Descripción rápida de las características**\n",
        "\n",
        "Aunque las 561 características están basadas en las señales de los sensores, podemos calcular algunas estadísticas rápidas sobre los datos:\n",
        "\n"
      ],
      "metadata": {
        "id": "9Y0TtDQYmHap"
      }
    },
    {
      "cell_type": "code",
      "source": [
        "\n",
        "# Ver estadísticas generales de las características\n",
        "print(X_train.describe())\n",
        "\n",
        "\n"
      ],
      "metadata": {
        "colab": {
          "base_uri": "https://localhost:8080/"
        },
        "id": "5kd3l3ZimJ04",
        "outputId": "1a98c29d-7fa5-45d7-890a-fe722a076714"
      },
      "execution_count": 4,
      "outputs": [
        {
          "output_type": "stream",
          "name": "stdout",
          "text": [
            "               0            1            2            3            4    \\\n",
            "count  7352.000000  7352.000000  7352.000000  7352.000000  7352.000000   \n",
            "mean      0.274488    -0.017695    -0.109141    -0.605438    -0.510938   \n",
            "std       0.070261     0.040811     0.056635     0.448734     0.502645   \n",
            "min      -1.000000    -1.000000    -1.000000    -1.000000    -0.999873   \n",
            "25%       0.262975    -0.024863    -0.120993    -0.992754    -0.978129   \n",
            "50%       0.277193    -0.017219    -0.108676    -0.946196    -0.851897   \n",
            "75%       0.288461    -0.010783    -0.097794    -0.242813    -0.034231   \n",
            "max       1.000000     1.000000     1.000000     1.000000     0.916238   \n",
            "\n",
            "               5            6            7            8            9    ...  \\\n",
            "count  7352.000000  7352.000000  7352.000000  7352.000000  7352.000000  ...   \n",
            "mean     -0.604754    -0.630512    -0.526907    -0.606150    -0.468604  ...   \n",
            "std       0.418687     0.424073     0.485942     0.414122     0.544547  ...   \n",
            "min      -1.000000    -1.000000    -1.000000    -1.000000    -1.000000  ...   \n",
            "25%      -0.980233    -0.993591    -0.978162    -0.980251    -0.936219  ...   \n",
            "50%      -0.859365    -0.950709    -0.857328    -0.857143    -0.881637  ...   \n",
            "75%      -0.262415    -0.292680    -0.066701    -0.265671    -0.017129  ...   \n",
            "max       1.000000     1.000000     0.967664     1.000000     1.000000  ...   \n",
            "\n",
            "               551          552          553          554          555  \\\n",
            "count  7352.000000  7352.000000  7352.000000  7352.000000  7352.000000   \n",
            "mean      0.125293    -0.307009    -0.625294     0.008684     0.002186   \n",
            "std       0.250994     0.321011     0.307584     0.336787     0.448306   \n",
            "min      -1.000000    -0.995357    -0.999765    -0.976580    -1.000000   \n",
            "25%      -0.023692    -0.542602    -0.845573    -0.121527    -0.289549   \n",
            "50%       0.134000    -0.343685    -0.711692     0.009509     0.008943   \n",
            "75%       0.289096    -0.126979    -0.503878     0.150865     0.292861   \n",
            "max       0.946700     0.989538     0.956845     1.000000     1.000000   \n",
            "\n",
            "               556          557          558          559          560  \n",
            "count  7352.000000  7352.000000  7352.000000  7352.000000  7352.000000  \n",
            "mean      0.008726    -0.005981    -0.489547     0.058593    -0.056515  \n",
            "std       0.608303     0.477975     0.511807     0.297480     0.279122  \n",
            "min      -1.000000    -1.000000    -1.000000    -1.000000    -1.000000  \n",
            "25%      -0.482273    -0.376341    -0.812065    -0.017885    -0.143414  \n",
            "50%       0.008735    -0.000368    -0.709417     0.182071     0.003181  \n",
            "75%       0.506187     0.359368    -0.509079     0.248353     0.107659  \n",
            "max       0.998702     0.996078     1.000000     0.478157     1.000000  \n",
            "\n",
            "[8 rows x 561 columns]\n"
          ]
        }
      ]
    },
    {
      "cell_type": "markdown",
      "source": [
        "Esto mostrará el **promedio**, **desviación estándar**, **mínimos** y **máximos** de las 561 características. Aunque no conoceremos el significado exacto de cada característica (son derivadas de las señales de los sensores), esta descripción rápida puede ayudar a identificar posibles anomalías en los datos.\n",
        "\n"
      ],
      "metadata": {
        "id": "wdQuPk1WmQvQ"
      }
    },
    {
      "cell_type": "markdown",
      "source": [
        "### **¿Cuántas clases hay?**\n",
        "\n",
        "Para confirmar cuántas actividades diferentes (clases) estamos tratando de predecir, podemos ver las etiquetas.\n",
        "\n"
      ],
      "metadata": {
        "id": "CPPk-vO6mXq3"
      }
    },
    {
      "cell_type": "code",
      "source": [
        "\n",
        "# Ver las etiquetas de actividad\n",
        "print(f\"Clases de actividad: {activity_labels[1].values}\")"
      ],
      "metadata": {
        "colab": {
          "base_uri": "https://localhost:8080/"
        },
        "id": "flwoYjH1mc7_",
        "outputId": "edd7ce44-a4c9-4cb4-b6db-00bd59e99b0d"
      },
      "execution_count": 5,
      "outputs": [
        {
          "output_type": "stream",
          "name": "stdout",
          "text": [
            "Clases de actividad: ['WALKING' 'WALKING_UPSTAIRS' 'WALKING_DOWNSTAIRS' 'SITTING' 'STANDING'\n",
            " 'LAYING']\n"
          ]
        }
      ]
    },
    {
      "cell_type": "markdown",
      "source": [
        "\n",
        "**Resultado**:\n",
        "- Hay **6 clases** de actividad:\n",
        "  - 1: Walking\n",
        "  - 2: Walking Upstairs\n",
        "  - 3: Walking Downstairs\n",
        "  - 4: Sitting\n",
        "  - 5: Standing\n",
        "  - 6: Laying\n",
        "\n",
        "### **Resumen del Dataset**:\n",
        "\n",
        "- El dataset contiene **7,352 muestras** y **561 características** en el conjunto de entrenamiento.\n",
        "- Las actividades se dividen en **6 clases**.\n",
        "- Hay una distribución variada de las actividades, con algunas clases (como Laying) más representadas que otras (como Walking Downstairs).\n",
        "- Las características derivadas de los sensores pueden ser revisadas con estadísticas básicas como la media y la desviación estándar, aunque no interpretamos cada característica de manera individual en este EDA resumido.\n",
        "\n"
      ],
      "metadata": {
        "id": "tB_k0RCzmgox"
      }
    },
    {
      "cell_type": "code",
      "execution_count": 6,
      "metadata": {
        "colab": {
          "base_uri": "https://localhost:8080/",
          "height": 1000
        },
        "id": "e74UxX6_JPof",
        "outputId": "7de29fba-534a-471b-eb46-75b33df4db62"
      },
      "outputs": [
        {
          "output_type": "stream",
          "name": "stdout",
          "text": [
            "Tamaño del conjunto de entrenamiento: (7352, 561)\n",
            "Tamaño del conjunto de prueba: (2947, 561)\n",
            "Etiquetas de actividades:    0                   1\n",
            "0  1             WALKING\n",
            "1  2    WALKING_UPSTAIRS\n",
            "2  3  WALKING_DOWNSTAIRS\n",
            "3  4             SITTING\n",
            "4  5            STANDING\n",
            "5  6              LAYING\n",
            "Primeras filas del conjunto de entrenamiento:\n",
            "        0         1         2         3         4         5         6    \\\n",
            "0  0.288585 -0.020294 -0.132905 -0.995279 -0.983111 -0.913526 -0.995112   \n",
            "1  0.278419 -0.016411 -0.123520 -0.998245 -0.975300 -0.960322 -0.998807   \n",
            "2  0.279653 -0.019467 -0.113462 -0.995380 -0.967187 -0.978944 -0.996520   \n",
            "3  0.279174 -0.026201 -0.123283 -0.996091 -0.983403 -0.990675 -0.997099   \n",
            "4  0.276629 -0.016570 -0.115362 -0.998139 -0.980817 -0.990482 -0.998321   \n",
            "\n",
            "        7         8         9    ...       551       552       553       554  \\\n",
            "0 -0.983185 -0.923527 -0.934724  ... -0.074323 -0.298676 -0.710304 -0.112754   \n",
            "1 -0.974914 -0.957686 -0.943068  ...  0.158075 -0.595051 -0.861499  0.053477   \n",
            "2 -0.963668 -0.977469 -0.938692  ...  0.414503 -0.390748 -0.760104 -0.118559   \n",
            "3 -0.982750 -0.989302 -0.938692  ...  0.404573 -0.117290 -0.482845 -0.036788   \n",
            "4 -0.979672 -0.990441 -0.942469  ...  0.087753 -0.351471 -0.699205  0.123320   \n",
            "\n",
            "        555       556       557       558       559       560  \n",
            "0  0.030400 -0.464761 -0.018446 -0.841247  0.179941 -0.058627  \n",
            "1 -0.007435 -0.732626  0.703511 -0.844788  0.180289 -0.054317  \n",
            "2  0.177899  0.100699  0.808529 -0.848933  0.180637 -0.049118  \n",
            "3 -0.012892  0.640011 -0.485366 -0.848649  0.181935 -0.047663  \n",
            "4  0.122542  0.693578 -0.615971 -0.847865  0.185151 -0.043892  \n",
            "\n",
            "[5 rows x 561 columns]\n",
            "   Activity\n",
            "0         5\n",
            "1         5\n",
            "2         5\n",
            "3         5\n",
            "4         5\n",
            "Exactitud del modelo: 0.9257\n"
          ]
        },
        {
          "output_type": "display_data",
          "data": {
            "text/plain": [
              "<Figure size 800x500 with 2 Axes>"
            ],
            "image/png": "[encoded data removed]"
          },
          "metadata": {}
        },
        {
          "output_type": "stream",
          "name": "stdout",
          "text": [
            "Reporte de Clasificación:\n",
            "                    precision    recall  f1-score   support\n",
            "\n",
            "           WALKING       0.89      0.97      0.93       496\n",
            "  WALKING_UPSTAIRS       0.90      0.89      0.89       471\n",
            "WALKING_DOWNSTAIRS       0.97      0.87      0.91       420\n",
            "           SITTING       0.91      0.89      0.90       491\n",
            "          STANDING       0.90      0.92      0.91       532\n",
            "            LAYING       1.00      1.00      1.00       537\n",
            "\n",
            "          accuracy                           0.93      2947\n",
            "         macro avg       0.93      0.92      0.92      2947\n",
            "      weighted avg       0.93      0.93      0.93      2947\n",
            "\n"
          ]
        }
      ],
      "source": [
        "import numpy as np\n",
        "from sklearn.ensemble import RandomForestClassifier\n",
        "from sklearn.metrics import accuracy_score, classification_report, confusion_matrix\n",
        "import seaborn as sns\n",
        "import matplotlib.pyplot as plt\n",
        "\n",
        "# Descargar y extraer el archivo zip desde la UCI Machine Learning Repository\n",
        "url = 'https://archive.ics.uci.edu/ml/machine-learning-databases/00240/UCI%20HAR%20Dataset.zip'\n",
        "response = requests.get(url)\n",
        "zip_file = ZipFile(BytesIO(response.content))\n",
        "\n",
        "# Cargar los archivos de datos (X_train, y_train, X_test, y_test) usando sep='\\s+'\n",
        "X_train = pd.read_csv(zip_file.open('UCI HAR Dataset/train/X_train.txt'), sep='\\s+', header=None)\n",
        "y_train = pd.read_csv(zip_file.open('UCI HAR Dataset/train/y_train.txt'), sep='\\s+', header=None)\n",
        "X_test = pd.read_csv(zip_file.open('UCI HAR Dataset/test/X_test.txt'), sep='\\s+', header=None)\n",
        "y_test = pd.read_csv(zip_file.open('UCI HAR Dataset/test/y_test.txt'), sep='\\s+', header=None)\n",
        "\n",
        "# En el contexto de pandas.read_csv(), la opción sep='\\s+' especifica que el separador (o delimitador)\n",
        "# entre los valores en el archivo que se está leyendo es uno o más espacios en blanco.\n",
        "\n",
        "# Cargar las etiquetas de las actividades\n",
        "activity_labels = pd.read_csv(zip_file.open('UCI HAR Dataset/activity_labels.txt'), sep='\\s+', header=None)\n",
        "\n",
        "# Renombrar las columnas del conjunto de entrenamiento y prueba para mayor claridad\n",
        "y_train.columns = ['Activity']\n",
        "y_test.columns = ['Activity']\n",
        "\n",
        "# Mostrar información básica del dataset\n",
        "print(f\"Tamaño del conjunto de entrenamiento: {X_train.shape}\")\n",
        "print(f\"Tamaño del conjunto de prueba: {X_test.shape}\")\n",
        "print(f\"Etiquetas de actividades: {activity_labels}\")\n",
        "\n",
        "# Mostrar las primeras filas del conjunto de entrenamiento\n",
        "print(\"Primeras filas del conjunto de entrenamiento:\")\n",
        "print(X_train.head())\n",
        "print(y_train.head())\n",
        "\n",
        "# Entrenar el modelo Random Forest\n",
        "model = RandomForestClassifier(n_estimators=100, random_state=42)\n",
        "model.fit(X_train, y_train.values.ravel())\n",
        "\n",
        "# Predecir en el conjunto de prueba\n",
        "y_pred = model.predict(X_test)\n",
        "\n",
        "# Calcular la exactitud\n",
        "accuracy = accuracy_score(y_test, y_pred)\n",
        "print(f\"Exactitud del modelo: {accuracy:.4f}\")\n",
        "\n",
        "# Calcular la matriz de confusión\n",
        "conf_matrix = confusion_matrix(y_test, y_pred)\n",
        "\n",
        "# Visualizar la matriz de confusión\n",
        "plt.figure(figsize=(8, 5))\n",
        "sns.heatmap(conf_matrix, annot=True, fmt='d', cmap='Blues', xticklabels=activity_labels[1].values, yticklabels=activity_labels[1].values)\n",
        "plt.title('Matriz de Confusión - Actividades Humanas')\n",
        "plt.xlabel('Predicción')\n",
        "plt.ylabel('Verdad')\n",
        "plt.show()\n",
        "\n",
        "# Mostrar el reporte de clasificación\n",
        "print(\"Reporte de Clasificación:\")\n",
        "print(classification_report(y_test, y_pred, target_names=activity_labels[1].values))\n",
        "\n"
      ]
    },
    {
      "cell_type": "markdown",
      "source": [
        "\n",
        "### **Análisis de la Matriz de Confusión**:\n",
        "\n",
        "Cada celda en la matriz de confusión nos indica cuántas veces se predijo una actividad y cuántas veces esa predicción fue correcta o incorrecta. Aquí están las clases (actividades) en las etiquetas del eje X y del eje Y:\n",
        "\n",
        "- **Verdad**: Es la actividad real realizada (eje Y).\n",
        "- **Predicción**: Es la actividad que predijo el modelo (eje X).\n",
        "\n",
        "#### **Diagonales principales**:\n",
        "Los valores en la diagonal (de arriba a la izquierda hacia abajo a la derecha) son los **aciertos**, es decir, cuando el modelo predijo correctamente la actividad que realmente ocurrió.\n",
        "\n",
        "#### **Interpretación de cada fila**:\n",
        "- **WALKING**:\n",
        "  - El modelo predijo correctamente **482** casos como \"WALKING\" (correcto).\n",
        "  - Hubo **8** casos que en realidad eran \"WALKING\", pero el modelo los predijo como \"WALKING_UPSTAIRS\".\n",
        "  - Hubo **6** casos que en realidad eran \"WALKING\", pero el modelo los predijo como \"WALKING_DOWNSTAIRS\".\n",
        "  \n",
        "- **WALKING_UPSTAIRS**:\n",
        "  - Hubo **419** predicciones correctas para esta clase.\n",
        "  - Sin embargo, **46** veces la actividad era realmente \"WALKING_UPSTAIRS\", pero el modelo predijo \"WALKING\".\n",
        "  - **6** veces predijo \"WALKING_DOWNSTAIRS\" cuando la actividad era \"WALKING_UPSTAIRS\".\n",
        "\n",
        "- **WALKING_DOWNSTAIRS**:\n",
        "  - Predicciones correctas: **364** veces.\n",
        "  - Hubo **41** casos en los que predijo \"WALKING_UPSTAIRS\" en lugar de \"WALKING_DOWNSTAIRS\".\n",
        "  - Hubo **15** casos en los que predijo \"WALKING\" en lugar de \"WALKING_DOWNSTAIRS\".\n",
        "\n",
        "- **SITTING**:\n",
        "  - Predicciones correctas: **435** veces.\n",
        "  - Sin embargo, hubo **56** casos donde la actividad real era \"SITTING\", pero el modelo predijo \"STANDING\".\n",
        "\n",
        "- **STANDING**:\n",
        "  - Predicciones correctas: **491** veces.\n",
        "  - El modelo cometió **41** errores al predecir \"STANDING\" cuando la actividad real era \"SITTING\".\n",
        "\n",
        "- **LAYING**:\n",
        "  - Predicciones correctas: **537** veces. No hubo errores en esta clase.\n",
        "\n",
        "### **Análisis de los Errores Comunes**:\n",
        "\n",
        "1. **Errores entre actividades de movimiento similares**:\n",
        "   - El modelo tiende a confundir **WALKING**, **WALKING_UPSTAIRS**, y **WALKING_DOWNSTAIRS**. Esto es comprensible, ya que estas actividades son similares en términos de las señales de acelerómetros y giroscopios, lo que puede dificultar la distinción.\n",
        "\n",
        "2. **Errores entre SITTING y STANDING**:\n",
        "   - El modelo confundió **56 veces** la actividad \"SITTING\" con \"STANDING\" y **41 veces** la actividad \"STANDING\" con \"SITTING\". Esto puede suceder porque las señales de estas dos actividades pueden ser muy similares en ciertos momentos, especialmente si la persona cambia de posición lentamente o de manera estática.\n",
        "\n",
        "3. **LAYING**:\n",
        "   - El modelo identificó perfectamente todos los casos de la clase **LAYING**. Esto sugiere que las señales de esta actividad son suficientemente distintas como para que el modelo las reconozca fácilmente.\n",
        "\n",
        "### **Conclusión**:\n",
        "- El modelo se desempeña muy bien en actividades más diferenciadas como **LAYING** y tiene un buen desempeño en **WALKING**.\n",
        "- Las actividades de movimiento similares, como las diferentes formas de caminar, presentan más confusión.\n",
        "- Hay una tendencia a confundir las actividades estáticas de **SITTING** y **STANDING**, lo que podría mejorarse utilizando técnicas avanzadas o más datos.\n"
      ],
      "metadata": {
        "id": "XI9GnEJinxkh"
      }
    },
    {
      "cell_type": "markdown",
      "source": [
        "\n",
        "### **Interpretación de las Métricas**:\n",
        "\n",
        "El reporte de clasificación nos proporciona cuatro métricas importantes para cada clase: **precision**, **recall**, **f1-score** y **support**. También tenemos la **exactitud** (accuracy) general del modelo. A continuación, te explico cada una de estas métricas y cómo interpretar los resultados que has obtenido:\n",
        "\n",
        "#### **1. Precision (Precisión)**:\n",
        "- **Definición**: La precisión es la proporción de predicciones correctas entre todas las instancias que el modelo predijo como pertenecientes a una clase. En otras palabras, mide cuántas de las predicciones positivas del modelo fueron correctas.\n",
        "  \n",
        "  - Fórmula:  \n",
        "    $$\n",
        "    \\text{Precisión} = \\frac{\\text{Verdaderos Positivos}}{\\text{Verdaderos Positivos} + \\text{Falsos Positivos}}\n",
        "    $$\n",
        "\n",
        "- **Interpretación**:\n",
        "  - Para **WALKING**, la precisión es **0.89**, lo que significa que el **89%** de las veces que el modelo predijo \"WALKING\", la predicción fue correcta.\n",
        "  - **LAYING** tiene una precisión perfecta de **1.00**, es decir, **todas** las veces que predijo \"LAYING\", acertó.\n",
        "  - En general, el modelo tiene buena precisión para todas las actividades, con valores por encima de **0.89**.\n",
        "\n",
        "#### **2. Recall (Sensibilidad)**:\n",
        "- **Definición**: El recall mide la capacidad del modelo para identificar correctamente todas las instancias reales de una clase. Es la proporción de instancias correctamente clasificadas entre todas las instancias que pertenecen a una clase.\n",
        "\n",
        "  - Fórmula:  \n",
        "    $$\n",
        "    \\text{Recall} = \\frac{\\text{Verdaderos Positivos}}{\\text{Verdaderos Positivos} + \\text{Falsos Negativos}}\n",
        "    $$\n",
        "\n",
        "- **Interpretación**:\n",
        "  - **WALKING** tiene un recall de **0.97**, lo que significa que el modelo identificó correctamente el **97%** de las veces en las que realmente había actividad \"WALKING\".\n",
        "  - **LAYING** también tiene un recall perfecto de **1.00**, es decir, **todas** las instancias de \"LAYING\" fueron correctamente identificadas.\n",
        "  - Las actividades como **WALKING_UPSTAIRS** tienen un recall un poco más bajo (**0.89**), lo que significa que el modelo no identificó correctamente el **11%** de las veces en que esta actividad estaba presente.\n",
        "\n",
        "#### **3. F1-Score**:\n",
        "- **Definición**: El **F1-score** es la media armónica entre la precisión y el recall. Es útil cuando hay un equilibrio entre la precisión y el recall, ya que resume ambos en un solo valor.\n",
        "\n",
        "  - Fórmula:  \n",
        "    $$\n",
        "    \\text{F1-Score} = 2 \\times \\frac{\\text{Precisión} \\times \\text{Recall}}{\\text{Precisión} + \\text{Recall}}\n",
        "    $$\n",
        "\n",
        "- **Interpretación**:\n",
        "  - **WALKING** tiene un F1-score de **0.93**, lo que significa que el modelo tiene un buen balance entre precisión y recall para esta actividad.\n",
        "  - **LAYING** tiene un F1-score perfecto de **1.00**, lo que significa que la predicción de esta clase fue impecable en términos de precisión y recall.\n",
        "  - **WALKING_UPSTAIRS** tiene el F1-score más bajo (**0.89**), lo que refleja que hay un ligero desequilibrio entre la precisión y el recall en esta actividad.\n",
        "\n",
        "#### **4. Support**:\n",
        "- **Definición**: El **support** indica el número total de instancias reales de cada clase en el conjunto de prueba. No es una métrica de desempeño, pero es útil para entender cuántos ejemplos había de cada clase.\n",
        "\n",
        "- **Interpretación**:\n",
        "  - **WALKING** tiene **496** instancias en el conjunto de prueba.\n",
        "  - **WALKING_UPSTAIRS** tiene **471** instancias, etc.\n",
        "  - El support te ayuda a ver si algunas clases están representadas de manera más abundante que otras.\n",
        "\n",
        "#### **5. Exactitud (Accuracy)**:\n",
        "- **Definición**: La **exactitud** es la proporción de predicciones correctas entre todas las predicciones realizadas. Es una métrica general que refleja el rendimiento global del modelo.\n",
        "\n",
        "  - Fórmula:\n",
        "\n",
        "$$\\text{Accuracy} = \\frac{\\text{Predicciones Correctas}}{\\text{Total de Predicciones}}$$\n",
        "\n",
        "- **Interpretación**:\n",
        "  - La exactitud global del modelo es **0.93**. Esto significa que el **93%** de las predicciones realizadas fueron correctas.\n",
        "\n",
        "#### **6. Macro Average (Promedio Macro)**:\n",
        "- **Definición**: El **macro average** calcula el promedio de precisión, recall y F1-score para todas las clases, tratándolas a todas por igual (sin tener en cuenta el support).\n",
        "  \n",
        "- **Interpretación**:\n",
        "  - El **macro average** es **0.93** para precisión, recall y F1-score, lo que indica que en promedio, el modelo se desempeña muy bien en todas las clases, sin darle más importancia a las clases más comunes.\n",
        "\n",
        "#### **7. Weighted Average (Promedio Ponderado)**:\n",
        "- **Definición**: El **weighted average** calcula el promedio de precisión, recall y F1-score, ponderado por el número de instancias en cada clase (support). Así, las clases con más ejemplos tendrán más influencia en el promedio.\n",
        "\n",
        "- **Interpretación**:\n",
        "  - El **weighted average** es también **0.93** en todas las métricas, lo que refleja que las clases con más instancias (como WALKING o STANDING) no están afectando de manera negativa el desempeño global del modelo.\n",
        "\n",
        "### **Conclusión General**:\n",
        "- **LAYING** es la actividad que el modelo predice perfectamente, con una precisión, recall y F1-score de **1.00**.\n",
        "- **WALKING** también tiene muy buen desempeño, con un F1-score de **0.93** y un recall de **0.97**.\n",
        "- **WALKING_UPSTAIRS** es la actividad que presenta más dificultades para el modelo, con un F1-score de **0.89**, lo que refleja que el modelo confunde esta actividad con otras similares (como se vio en la matriz de confusión).\n",
        "\n"
      ],
      "metadata": {
        "id": "uy3D6ClKoCz3"
      }
    },
    {
      "cell_type": "markdown",
      "source": [
        "**Final Bonus Tip** 💡\n",
        "\n",
        "La matriz de confusión recibe su nombre porque muestra cuántas veces el modelo está \"confundido\" al realizar predicciones. Es decir, nos permite ver cuántas veces el modelo predice incorrectamente una clase como si fuera otra, mostrando dónde ocurren los errores."
      ],
      "metadata": {
        "id": "vpRkizb_pm5a"
      }
    }
  ]
}