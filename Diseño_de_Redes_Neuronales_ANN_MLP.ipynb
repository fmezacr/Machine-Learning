{
  "nbformat": 4,
  "nbformat_minor": 0,
  "metadata": {
    "colab": {
      "provenance": [],
      "authorship_tag": "ABX9TyOWtunjKZuGa6qHMm9h8EJw",
      "include_colab_link": true
    },
    "kernelspec": {
      "name": "python3",
      "display_name": "Python 3"
    },
    "language_info": {
      "name": "python"
    }
  },
  "cells": [
    {
      "cell_type": "markdown",
      "metadata": {
        "id": "view-in-github",
        "colab_type": "text"
      },
      "source": [
        "<a href=\"https://colab.research.google.com/github/fmezacr/machinelearning/blob/main/Dise%C3%B1o_de_Redes_Neuronales_ANN_MLP.ipynb\" target=\"_parent\"><img src=\"https://colab.research.google.com/assets/colab-badge.svg\" alt=\"Open In Colab\"/></a>"
      ]
    },
    {
      "cell_type": "markdown",
      "source": [
        "\n",
        "---\n",
        "\n",
        "<div style=\"font-size:small;\">\n",
        "\n",
        "MIT License\n",
        "\n",
        "Copyright (c) [2024] Felipe Meza-Obando\n",
        "\n",
        "*Permission is hereby granted, free of charge, to any person obtaining a copy\n",
        "of this software and associated documentation files (the \"Software\"), to deal\n",
        "in the Software for educational purposes only. You must give author appropriate credit, provide a link to the license and source, and indicate if changes were made.*\n",
        "</div>\n",
        "\n",
        "---"
      ],
      "metadata": {
        "id": "OocwdT1S2NAH"
      }
    },
    {
      "cell_type": "markdown",
      "source": [
        "\n",
        "## **Tutorial: Diseño y Operación de Redes Neuronales con Keras**\n",
        "### Autor: ***Felipe Meza-Obando***\n",
        "\n",
        "### **1. Introducción**\n",
        "En este tutorial exploraremos el proceso completo para diseñar, entrenar y validar una red neuronal utilizando el conjunto de datos MNIST. El objetivo es comprender cómo funcionan las arquitecturas básicas de redes neuronales, la importancia de los hiperparámetros y cómo interpretar los resultados de entrenamiento.\n",
        "\n",
        "Empezaremos con un caso de clasificación y cerraremos con uno de regresión.\n",
        "\n",
        "---\n",
        "\n",
        "### **2. Carga de Librerías y Conjunto de Datos**"
      ],
      "metadata": {
        "id": "-Nv3ocLRGQsa"
      }
    },
    {
      "cell_type": "code",
      "execution_count": 1,
      "metadata": {
        "id": "kCPHZRCTGJbn"
      },
      "outputs": [],
      "source": [
        "# Importar librerías necesarias\n",
        "import numpy as np\n",
        "import matplotlib.pyplot as plt\n",
        "import tensorflow as tf\n",
        "from tensorflow.keras.datasets import mnist\n",
        "from tensorflow.keras.models import Sequential\n",
        "from tensorflow.keras.layers import Dense, Flatten, Dropout\n",
        "from tensorflow.keras.utils import to_categorical\n",
        "from IPython.display import Image\n",
        "import time\n",
        "plt.style.use(\"seaborn-v0_8-paper\")"
      ]
    },
    {
      "cell_type": "markdown",
      "source": [
        "\n",
        "\n",
        "- **`mnist`**: Base de datos de imágenes de dígitos escritos a mano.  \n",
        "- **`Sequential`**: Permite crear una red capa por capa.  \n",
        "- **`Dense`**: Capa completamente conectada.  \n",
        "- **`Dropout`**: Técnica para reducir el overfitting.  \n",
        "- **`to_categorical`**: Convierte las etiquetas en vectores categóricos para clasificación multiclase.\n",
        "\n",
        "---\n",
        "\n",
        "### **3. Cargar y Visualizar los Datos**"
      ],
      "metadata": {
        "id": "kvc0NB0dGbsR"
      }
    },
    {
      "cell_type": "code",
      "source": [
        "# Cargar el dataset MNIST\n",
        "(X_train, y_train), (X_test, y_test) = mnist.load_data()\n",
        "\n",
        "# Visualizar algunas imágenes\n",
        "fig, axes = plt.subplots(1, 5, figsize=(10, 3))\n",
        "for i in range(5):\n",
        "    axes[i].imshow(X_train[i], cmap='gray')\n",
        "    axes[i].axis('off')\n",
        "    axes[i].set_title(f\"Etiqueta: {y_train[i]}\")\n",
        "plt.show()"
      ],
      "metadata": {
        "colab": {
          "base_uri": "https://localhost:8080/",
          "height": 225
        },
        "id": "6ts_OAvLGlyb",
        "outputId": "7c934e0f-6f7c-4699-a587-10184ba3b918"
      },
      "execution_count": 2,
      "outputs": [
        {
          "output_type": "stream",
          "name": "stdout",
          "text": [
            "Downloading data from https://storage.googleapis.com/tensorflow/tf-keras-datasets/mnist.npz\n",
            "\u001b[1m11490434/11490434\u001b[0m \u001b[32m━━━━━━━━━━━━━━━━━━━━\u001b[0m\u001b[37m\u001b[0m \u001b[1m0s\u001b[0m 0us/step\n"
          ]
        },
        {
          "output_type": "display_data",
          "data": {
            "text/plain": [
              "<Figure size 1000x300 with 5 Axes>"
            ],
            "image/png": "[encoded data removed]"
          },
          "metadata": {}
        }
      ]
    },
    {
      "cell_type": "code",
      "source": [
        "X_test.shape"
      ],
      "metadata": {
        "colab": {
          "base_uri": "https://localhost:8080/"
        },
        "id": "7Cgs1Q_i3CWe",
        "outputId": "422cb3db-ba56-4397-d1a1-98586a5dc47a"
      },
      "execution_count": 3,
      "outputs": [
        {
          "output_type": "execute_result",
          "data": {
            "text/plain": [
              "(10000, 28, 28)"
            ]
          },
          "metadata": {},
          "execution_count": 3
        }
      ]
    },
    {
      "cell_type": "code",
      "source": [
        "X_train.shape"
      ],
      "metadata": {
        "colab": {
          "base_uri": "https://localhost:8080/"
        },
        "id": "UmYdxQJwDHOU",
        "outputId": "3a3cd163-b0ec-4bb1-8ad4-f96471f5793c"
      },
      "execution_count": 4,
      "outputs": [
        {
          "output_type": "execute_result",
          "data": {
            "text/plain": [
              "(60000, 28, 28)"
            ]
          },
          "metadata": {},
          "execution_count": 4
        }
      ]
    },
    {
      "cell_type": "markdown",
      "source": [
        "\n",
        "- El dataset MNIST contiene **60,000 imágenes** para entrenamiento y **10,000 imágenes** para prueba.  \n",
        "- Cada imagen es de tamaño **28x28 píxeles** y representa un dígito entre 0 y 9.\n",
        "\n",
        "---\n",
        "\n"
      ],
      "metadata": {
        "id": "_6qCBdXGGsC6"
      }
    },
    {
      "cell_type": "markdown",
      "source": [
        "### **4. Preprocesamiento de Datos**"
      ],
      "metadata": {
        "id": "2QwPI5KeCpMa"
      }
    },
    {
      "cell_type": "code",
      "source": [
        "# Normalización: Escalar los valores de píxeles entre 0 y 1\n",
        "X_train = X_train.astype('float32') / 255\n",
        "X_test = X_test.astype('float32') / 255\n",
        "\n",
        "# Convertir etiquetas a formato categórico\n",
        "y_train = to_categorical(y_train, 10)\n",
        "y_test = to_categorical(y_test, 10)"
      ],
      "metadata": {
        "id": "m5U_xpi9G0xA"
      },
      "execution_count": 5,
      "outputs": []
    },
    {
      "cell_type": "markdown",
      "source": [
        "  \n",
        "- **Normalización:** Mejora la convergencia del modelo.  \n",
        "- **Categorización:** Cada etiqueta se convierte en un vector binario para la clasificación.\n",
        "\n",
        "---\n",
        "\n"
      ],
      "metadata": {
        "id": "d-YMvd-RG-fZ"
      }
    },
    {
      "cell_type": "markdown",
      "source": [
        "### **5. Definir la Arquitectura de la Red**"
      ],
      "metadata": {
        "id": "0HTCa_57CsKt"
      }
    },
    {
      "cell_type": "code",
      "source": [
        "model = Sequential([\n",
        "    tf.keras.Input(shape=(28, 28)),  # Definimos la entrada explícitamente\n",
        "    Flatten(),                       # Aplanamiento\n",
        "    Dense(128, activation='relu'),\n",
        "    Dropout(0.2),\n",
        "    Dense(64, activation='relu'),\n",
        "    Dense(10, activation='softmax')\n",
        "])\n",
        "\n",
        "\n",
        "# Resumen del modelo\n",
        "model.summary()"
      ],
      "metadata": {
        "colab": {
          "base_uri": "https://localhost:8080/",
          "height": 300
        },
        "id": "5yXCsb0yHH75",
        "outputId": "118c8675-f16e-473a-f137-bdf83f022129"
      },
      "execution_count": 6,
      "outputs": [
        {
          "output_type": "display_data",
          "data": {
            "text/plain": [
              "\u001b[1mModel: \"sequential\"\u001b[0m\n"
            ],
            "text/html": [
              "<pre style=\"white-space:pre;overflow-x:auto;line-height:normal;font-family:Menlo,'DejaVu Sans Mono',consolas,'Courier New',monospace\"><span style=\"font-weight: bold\">Model: \"sequential\"</span>\n",
              "</pre>\n"
            ]
          },
          "metadata": {}
        },
        {
          "output_type": "display_data",
          "data": {
            "text/plain": [
              "┏━━━━━━━━━━━━━━━━━━━━━━━━━━━━━━━━━━━━━━┳━━━━━━━━━━━━━━━━━━━━━━━━━━━━━┳━━━━━━━━━━━━━━━━━┓\n",
              "┃\u001b[1m \u001b[0m\u001b[1mLayer (type)                        \u001b[0m\u001b[1m \u001b[0m┃\u001b[1m \u001b[0m\u001b[1mOutput Shape               \u001b[0m\u001b[1m \u001b[0m┃\u001b[1m \u001b[0m\u001b[1m        Param #\u001b[0m\u001b[1m \u001b[0m┃\n",
              "┡━━━━━━━━━━━━━━━━━━━━━━━━━━━━━━━━━━━━━━╇━━━━━━━━━━━━━━━━━━━━━━━━━━━━━╇━━━━━━━━━━━━━━━━━┩\n",
              "│ flatten (\u001b[38;5;33mFlatten\u001b[0m)                    │ (\u001b[38;5;45mNone\u001b[0m, \u001b[38;5;34m784\u001b[0m)                 │               \u001b[38;5;34m0\u001b[0m │\n",
              "├──────────────────────────────────────┼─────────────────────────────┼─────────────────┤\n",
              "│ dense (\u001b[38;5;33mDense\u001b[0m)                        │ (\u001b[38;5;45mNone\u001b[0m, \u001b[38;5;34m128\u001b[0m)                 │         \u001b[38;5;34m100,480\u001b[0m │\n",
              "├──────────────────────────────────────┼─────────────────────────────┼─────────────────┤\n",
              "│ dropout (\u001b[38;5;33mDropout\u001b[0m)                    │ (\u001b[38;5;45mNone\u001b[0m, \u001b[38;5;34m128\u001b[0m)                 │               \u001b[38;5;34m0\u001b[0m │\n",
              "├──────────────────────────────────────┼─────────────────────────────┼─────────────────┤\n",
              "│ dense_1 (\u001b[38;5;33mDense\u001b[0m)                      │ (\u001b[38;5;45mNone\u001b[0m, \u001b[38;5;34m64\u001b[0m)                  │           \u001b[38;5;34m8,256\u001b[0m │\n",
              "├──────────────────────────────────────┼─────────────────────────────┼─────────────────┤\n",
              "│ dense_2 (\u001b[38;5;33mDense\u001b[0m)                      │ (\u001b[38;5;45mNone\u001b[0m, \u001b[38;5;34m10\u001b[0m)                  │             \u001b[38;5;34m650\u001b[0m │\n",
              "└──────────────────────────────────────┴─────────────────────────────┴─────────────────┘\n"
            ],
            "text/html": [
              "<pre style=\"white-space:pre;overflow-x:auto;line-height:normal;font-family:Menlo,'DejaVu Sans Mono',consolas,'Courier New',monospace\">┏━━━━━━━━━━━━━━━━━━━━━━━━━━━━━━━━━━━━━━┳━━━━━━━━━━━━━━━━━━━━━━━━━━━━━┳━━━━━━━━━━━━━━━━━┓\n",
              "┃<span style=\"font-weight: bold\"> Layer (type)                         </span>┃<span style=\"font-weight: bold\"> Output Shape                </span>┃<span style=\"font-weight: bold\">         Param # </span>┃\n",
              "┡━━━━━━━━━━━━━━━━━━━━━━━━━━━━━━━━━━━━━━╇━━━━━━━━━━━━━━━━━━━━━━━━━━━━━╇━━━━━━━━━━━━━━━━━┩\n",
              "│ flatten (<span style=\"color: #0087ff; text-decoration-color: #0087ff\">Flatten</span>)                    │ (<span style=\"color: #00d7ff; text-decoration-color: #00d7ff\">None</span>, <span style=\"color: #00af00; text-decoration-color: #00af00\">784</span>)                 │               <span style=\"color: #00af00; text-decoration-color: #00af00\">0</span> │\n",
              "├──────────────────────────────────────┼─────────────────────────────┼─────────────────┤\n",
              "│ dense (<span style=\"color: #0087ff; text-decoration-color: #0087ff\">Dense</span>)                        │ (<span style=\"color: #00d7ff; text-decoration-color: #00d7ff\">None</span>, <span style=\"color: #00af00; text-decoration-color: #00af00\">128</span>)                 │         <span style=\"color: #00af00; text-decoration-color: #00af00\">100,480</span> │\n",
              "├──────────────────────────────────────┼─────────────────────────────┼─────────────────┤\n",
              "│ dropout (<span style=\"color: #0087ff; text-decoration-color: #0087ff\">Dropout</span>)                    │ (<span style=\"color: #00d7ff; text-decoration-color: #00d7ff\">None</span>, <span style=\"color: #00af00; text-decoration-color: #00af00\">128</span>)                 │               <span style=\"color: #00af00; text-decoration-color: #00af00\">0</span> │\n",
              "├──────────────────────────────────────┼─────────────────────────────┼─────────────────┤\n",
              "│ dense_1 (<span style=\"color: #0087ff; text-decoration-color: #0087ff\">Dense</span>)                      │ (<span style=\"color: #00d7ff; text-decoration-color: #00d7ff\">None</span>, <span style=\"color: #00af00; text-decoration-color: #00af00\">64</span>)                  │           <span style=\"color: #00af00; text-decoration-color: #00af00\">8,256</span> │\n",
              "├──────────────────────────────────────┼─────────────────────────────┼─────────────────┤\n",
              "│ dense_2 (<span style=\"color: #0087ff; text-decoration-color: #0087ff\">Dense</span>)                      │ (<span style=\"color: #00d7ff; text-decoration-color: #00d7ff\">None</span>, <span style=\"color: #00af00; text-decoration-color: #00af00\">10</span>)                  │             <span style=\"color: #00af00; text-decoration-color: #00af00\">650</span> │\n",
              "└──────────────────────────────────────┴─────────────────────────────┴─────────────────┘\n",
              "</pre>\n"
            ]
          },
          "metadata": {}
        },
        {
          "output_type": "display_data",
          "data": {
            "text/plain": [
              "\u001b[1m Total params: \u001b[0m\u001b[38;5;34m109,386\u001b[0m (427.29 KB)\n"
            ],
            "text/html": [
              "<pre style=\"white-space:pre;overflow-x:auto;line-height:normal;font-family:Menlo,'DejaVu Sans Mono',consolas,'Courier New',monospace\"><span style=\"font-weight: bold\"> Total params: </span><span style=\"color: #00af00; text-decoration-color: #00af00\">109,386</span> (427.29 KB)\n",
              "</pre>\n"
            ]
          },
          "metadata": {}
        },
        {
          "output_type": "display_data",
          "data": {
            "text/plain": [
              "\u001b[1m Trainable params: \u001b[0m\u001b[38;5;34m109,386\u001b[0m (427.29 KB)\n"
            ],
            "text/html": [
              "<pre style=\"white-space:pre;overflow-x:auto;line-height:normal;font-family:Menlo,'DejaVu Sans Mono',consolas,'Courier New',monospace\"><span style=\"font-weight: bold\"> Trainable params: </span><span style=\"color: #00af00; text-decoration-color: #00af00\">109,386</span> (427.29 KB)\n",
              "</pre>\n"
            ]
          },
          "metadata": {}
        },
        {
          "output_type": "display_data",
          "data": {
            "text/plain": [
              "\u001b[1m Non-trainable params: \u001b[0m\u001b[38;5;34m0\u001b[0m (0.00 B)\n"
            ],
            "text/html": [
              "<pre style=\"white-space:pre;overflow-x:auto;line-height:normal;font-family:Menlo,'DejaVu Sans Mono',consolas,'Courier New',monospace\"><span style=\"font-weight: bold\"> Non-trainable params: </span><span style=\"color: #00af00; text-decoration-color: #00af00\">0</span> (0.00 B)\n",
              "</pre>\n"
            ]
          },
          "metadata": {}
        }
      ]
    },
    {
      "cell_type": "markdown",
      "source": [
        "\n",
        "- **Entrada:** Vector de 784 dimensiones (imágenes aplanadas).  \n",
        "- **Primera capa oculta:** 128 neuronas, activación ReLU, con **Dropout** del 20%.  \n",
        "- **Segunda capa oculta:** 64 neuronas, activación ReLU.  \n",
        "- **Capa de salida:** 10 neuronas (una por clase), activación **softmax** para clasificación multiclase.\n",
        "\n"
      ],
      "metadata": {
        "id": "20_hVQmIHUvh"
      }
    },
    {
      "cell_type": "code",
      "source": [
        "# Mostrar la imagen usando IPython\n",
        "Image(url='https://3b1b-posts.us-east-1.linodeobjects.com/content/lessons/2017/gradient-descent/recap-propagation.png', width=600)\n"
      ],
      "metadata": {
        "colab": {
          "base_uri": "https://localhost:8080/",
          "height": 360
        },
        "id": "C0vvrSJbVHpv",
        "outputId": "c7d3cf05-b71a-43ea-98a0-1fc62dfd31d3"
      },
      "execution_count": 7,
      "outputs": [
        {
          "output_type": "execute_result",
          "data": {
            "text/html": [
              "<img src=\"https://3b1b-posts.us-east-1.linodeobjects.com/content/lessons/2017/gradient-descent/recap-propagation.png\" width=\"600\"/>"
            ],
            "text/plain": [
              "<IPython.core.display.Image object>"
            ]
          },
          "metadata": {},
          "execution_count": 7
        }
      ]
    },
    {
      "cell_type": "markdown",
      "source": [
        "---\n",
        "\n",
        "### **6. Compilar el Modelo**"
      ],
      "metadata": {
        "id": "rcI5X15cVkwY"
      }
    },
    {
      "cell_type": "code",
      "source": [
        "model.compile(optimizer='adam',                #El valor predeterminado del learning rate en Adam es 0.001.\n",
        "              loss='categorical_crossentropy',\n",
        "              metrics=['accuracy'])"
      ],
      "metadata": {
        "id": "aUgIB0PoHUSg"
      },
      "execution_count": 8,
      "outputs": []
    },
    {
      "cell_type": "markdown",
      "source": [
        "\n",
        "- **`adam`**: Optimizador que ajusta el learning rate automáticamente.  \n",
        "- **`categorical_crossentropy`**: Función de pérdida para clasificación multiclase.  \n",
        "- **`accuracy`**: Métrica utilizada para evaluar el rendimiento del modelo.\n",
        "\n",
        "---"
      ],
      "metadata": {
        "id": "eamdw5_IHlnK"
      }
    },
    {
      "cell_type": "markdown",
      "source": [
        "### **7. Entrenamiento del Modelo**\n",
        "\n",
        "Usamos los datos de prueba para evaluar la precisión final del modelo."
      ],
      "metadata": {
        "id": "9z6tWyDlzt3_"
      }
    },
    {
      "cell_type": "code",
      "source": [
        "# Iniciar el timer\n",
        "start_time = time.time()\n",
        "\n",
        "# Entrenar el modelo con los datos aplanados\n",
        "history = model.fit(X_train, y_train,\n",
        "                    validation_split=0.2, # De los datos de training, se toma el 20% para validar.\n",
        "                    epochs=10,\n",
        "                    batch_size=32)\n",
        "\n",
        "# Calcular el tiempo total de entrenamiento\n",
        "end_time = time.time()\n",
        "elapsed_time = end_time - start_time\n",
        "\n",
        "# Imprimir el tiempo total en segundos\n",
        "print(f\"Tiempo total de entrenamiento: {elapsed_time:.2f} segundos\")\n",
        "\n"
      ],
      "metadata": {
        "colab": {
          "base_uri": "https://localhost:8080/"
        },
        "id": "m4f-3dL8HoBy",
        "outputId": "d14a7608-e273-4c7b-c576-161f0878415c"
      },
      "execution_count": 9,
      "outputs": [
        {
          "output_type": "stream",
          "name": "stdout",
          "text": [
            "Epoch 1/10\n",
            "\u001b[1m1500/1500\u001b[0m \u001b[32m━━━━━━━━━━━━━━━━━━━━\u001b[0m\u001b[37m\u001b[0m \u001b[1m21s\u001b[0m 10ms/step - accuracy: 0.8446 - loss: 0.5306 - val_accuracy: 0.9602 - val_loss: 0.1363\n",
            "Epoch 2/10\n",
            "\u001b[1m1500/1500\u001b[0m \u001b[32m━━━━━━━━━━━━━━━━━━━━\u001b[0m\u001b[37m\u001b[0m \u001b[1m15s\u001b[0m 10ms/step - accuracy: 0.9551 - loss: 0.1500 - val_accuracy: 0.9673 - val_loss: 0.1068\n",
            "Epoch 3/10\n",
            "\u001b[1m1500/1500\u001b[0m \u001b[32m━━━━━━━━━━━━━━━━━━━━\u001b[0m\u001b[37m\u001b[0m \u001b[1m16s\u001b[0m 7ms/step - accuracy: 0.9644 - loss: 0.1163 - val_accuracy: 0.9711 - val_loss: 0.0946\n",
            "Epoch 4/10\n",
            "\u001b[1m1500/1500\u001b[0m \u001b[32m━━━━━━━━━━━━━━━━━━━━\u001b[0m\u001b[37m\u001b[0m \u001b[1m8s\u001b[0m 5ms/step - accuracy: 0.9727 - loss: 0.0884 - val_accuracy: 0.9730 - val_loss: 0.0878\n",
            "Epoch 5/10\n",
            "\u001b[1m1500/1500\u001b[0m \u001b[32m━━━━━━━━━━━━━━━━━━━━\u001b[0m\u001b[37m\u001b[0m \u001b[1m7s\u001b[0m 5ms/step - accuracy: 0.9752 - loss: 0.0780 - val_accuracy: 0.9753 - val_loss: 0.0902\n",
            "Epoch 6/10\n",
            "\u001b[1m1500/1500\u001b[0m \u001b[32m━━━━━━━━━━━━━━━━━━━━\u001b[0m\u001b[37m\u001b[0m \u001b[1m8s\u001b[0m 3ms/step - accuracy: 0.9784 - loss: 0.0659 - val_accuracy: 0.9753 - val_loss: 0.0859\n",
            "Epoch 7/10\n",
            "\u001b[1m1500/1500\u001b[0m \u001b[32m━━━━━━━━━━━━━━━━━━━━\u001b[0m\u001b[37m\u001b[0m \u001b[1m7s\u001b[0m 4ms/step - accuracy: 0.9802 - loss: 0.0595 - val_accuracy: 0.9758 - val_loss: 0.0858\n",
            "Epoch 8/10\n",
            "\u001b[1m1500/1500\u001b[0m \u001b[32m━━━━━━━━━━━━━━━━━━━━\u001b[0m\u001b[37m\u001b[0m \u001b[1m11s\u001b[0m 5ms/step - accuracy: 0.9820 - loss: 0.0532 - val_accuracy: 0.9779 - val_loss: 0.0810\n",
            "Epoch 9/10\n",
            "\u001b[1m1500/1500\u001b[0m \u001b[32m━━━━━━━━━━━━━━━━━━━━\u001b[0m\u001b[37m\u001b[0m \u001b[1m5s\u001b[0m 3ms/step - accuracy: 0.9835 - loss: 0.0513 - val_accuracy: 0.9756 - val_loss: 0.0894\n",
            "Epoch 10/10\n",
            "\u001b[1m1500/1500\u001b[0m \u001b[32m━━━━━━━━━━━━━━━━━━━━\u001b[0m\u001b[37m\u001b[0m \u001b[1m7s\u001b[0m 4ms/step - accuracy: 0.9841 - loss: 0.0485 - val_accuracy: 0.9758 - val_loss: 0.0916\n",
            "Tiempo total de entrenamiento: 104.16 segundos\n"
          ]
        }
      ]
    },
    {
      "cell_type": "markdown",
      "source": [
        "- **`epoch`**: Una pasada completa por el conjunto de entrenamiento.  \n",
        "- **`batch_size`**: Número de muestras procesadas antes de actualizar los pesos.  \n",
        "- **`validation_split`**: Porcentaje de datos reservados para validación durante el entrenamiento.\n",
        "\n",
        "---\n",
        "\n"
      ],
      "metadata": {
        "id": "x8_eP25BIM9A"
      }
    },
    {
      "cell_type": "markdown",
      "source": [
        "### **8. Visualización de las Curvas de Entrenamiento**"
      ],
      "metadata": {
        "id": "wZNXBY-iCysb"
      }
    },
    {
      "cell_type": "code",
      "source": [
        "# Graficar las curvas de pérdida y accuracy\n",
        "fig, ax = plt.subplots(1, 2, figsize=(12, 5))\n",
        "\n",
        "# Curva de pérdida\n",
        "ax[0].plot(history.history['loss'], label='Pérdida Entrenamiento')\n",
        "ax[0].plot(history.history['val_loss'], label='Pérdida Validación')\n",
        "ax[0].set_title('Curva de Pérdida')\n",
        "ax[0].set_xlabel('Épocas')\n",
        "ax[0].set_ylabel('Pérdida')\n",
        "ax[0].legend()\n",
        "\n",
        "# Curva de accuracy\n",
        "ax[1].plot(history.history['accuracy'], label='Accuracy Entrenamiento')\n",
        "ax[1].plot(history.history['val_accuracy'], label='Accuracy Validación')\n",
        "ax[1].set_title('Curva de Accuracy')\n",
        "ax[1].set_xlabel('Épocas')\n",
        "ax[1].set_ylabel('Accuracy')\n",
        "ax[1].legend()\n",
        "\n",
        "plt.show()"
      ],
      "metadata": {
        "colab": {
          "base_uri": "https://localhost:8080/",
          "height": 483
        },
        "id": "rURLmtY4IRCa",
        "outputId": "bbbc4fe8-2d82-4939-fc78-adc31bc069d5"
      },
      "execution_count": 10,
      "outputs": [
        {
          "output_type": "display_data",
          "data": {
            "text/plain": [
              "<Figure size 1200x500 with 2 Axes>"
            ],
            "image/png": "[encoded data removed]"
          },
          "metadata": {}
        }
      ]
    },
    {
      "cell_type": "markdown",
      "source": [
        "\n",
        "### **9. Evaluación del Modelo**"
      ],
      "metadata": {
        "id": "DQEaYVLzT_-r"
      }
    },
    {
      "cell_type": "code",
      "source": [
        "\n",
        "# Evaluar el modelo con el conjunto de prueba\n",
        "test_loss, test_accuracy = model.evaluate(X_test, y_test)\n",
        "print(f\"Test Loss: {test_loss * 100:.2f}%\")\n",
        "print(f\"Precisión en el conjunto de prueba: {test_accuracy * 100:.2f}%\")\n"
      ],
      "metadata": {
        "colab": {
          "base_uri": "https://localhost:8080/"
        },
        "id": "tTM00aqNGOtJ",
        "outputId": "fe714471-0ed3-4a17-a010-b2c9c2766e9f"
      },
      "execution_count": 11,
      "outputs": [
        {
          "output_type": "stream",
          "name": "stdout",
          "text": [
            "\u001b[1m313/313\u001b[0m \u001b[32m━━━━━━━━━━━━━━━━━━━━\u001b[0m\u001b[37m\u001b[0m \u001b[1m1s\u001b[0m 2ms/step - accuracy: 0.9747 - loss: 0.0955\n",
            "Test Loss: 7.85%\n",
            "Precisión en el conjunto de prueba: 97.82%\n"
          ]
        }
      ]
    },
    {
      "cell_type": "code",
      "source": [
        "# Seleccionar un índice aleatorio para visualizar un dígito\n",
        "index = np.random.randint(0, len(X_test))\n",
        "\n",
        "# Visualizar la imagen y su etiqueta correspondiente\n",
        "plt.imshow(X_test[index].reshape(28, 28), cmap='gray')\n",
        "plt.title(f'Etiqueta Asignada: {y_test[index]}')\n",
        "plt.axis('off')  # Eliminar ejes para una mejor visualización\n",
        "plt.show()\n"
      ],
      "metadata": {
        "colab": {
          "base_uri": "https://localhost:8080/",
          "height": 394
        },
        "id": "jAZWb9eDR4Qh",
        "outputId": "d86bc6c5-fcde-4f6e-c67b-4e853c7b2d56"
      },
      "execution_count": 12,
      "outputs": [
        {
          "output_type": "display_data",
          "data": {
            "text/plain": [
              "<Figure size 640x440 with 1 Axes>"
            ],
            "image/png": "[encoded data removed]"
          },
          "metadata": {}
        }
      ]
    },
    {
      "cell_type": "markdown",
      "source": [
        "### **8. Visualización de las Curvas de Entrenamiento**"
      ],
      "metadata": {
        "id": "t1eXEDBsC3MT"
      }
    },
    {
      "cell_type": "markdown",
      "source": [
        "\n",
        "- El modelo se evalúa utilizando los datos de prueba para verificar su rendimiento.  \n",
        "- El **accuracy** en los datos de prueba indica qué tan bien generaliza el modelo.\n",
        "\n",
        "---\n",
        "\n",
        "### **10. Técnicas para Evitar Overfitting**\n",
        "\n",
        "- **Dropout:** Apaga aleatoriamente neuronas durante el entrenamiento.  \n",
        "- **Early Stopping:** Detiene el entrenamiento si la pérdida de validación deja de mejorar.  \n",
        "\n",
        "---\n",
        "\n",
        "### **11. Sugerencias de Mejora**\n",
        "\n",
        "- Se podría mejorar el rendimiento ajustando hiperparámetros como el learning rate (cuando sea posible), el número de épocas o el tamaño del batch.\n",
        "- Si el modelo tiene alta precisión en entrenamiento pero baja en validación, se podría aumentar el Dropout o utilizar Early Stopping.\n",
        "- Aumentar la cantidad de neuronas o capas ocultas.\n",
        "- Usar regularización adicional o técnicas más avanzadas como batch normalization.\n",
        "\n",
        "---\n",
        "\n"
      ],
      "metadata": {
        "id": "0DpvpoO7I9ZB"
      }
    },
    {
      "cell_type": "markdown",
      "source": [
        "# **Algunos otros conceptos...**"
      ],
      "metadata": {
        "id": "LPy4TDavMc2B"
      }
    },
    {
      "cell_type": "markdown",
      "source": [
        "### **Funciones de pérdida (loss) en redes neuronales**\n",
        "\n",
        "Las funciones de **pérdida (loss)** son esenciales en la construcción y entrenamiento de modelos de **aprendizaje profundo**. Estas funciones miden qué tan bien el modelo está haciendo predicciones comparadas con las etiquetas verdaderas. En esencia, indican **qué tan lejos** están las predicciones del modelo de los valores correctos. Durante el entrenamiento, los optimizadores ajustan los pesos del modelo con el objetivo de minimizar esta pérdida.\n",
        "\n",
        "---\n",
        "\n",
        "## **Funciones de pérdida más utilizadas**\n",
        "### **1. Sparse Categorical Crossentropy**\n",
        "- **Uso**: Para **problemas de clasificación multiclase** donde cada muestra pertenece a una clase entre varias.\n",
        "- **Ejemplo**: Clasificación de dígitos (como en MNIST, con 10 clases).\n",
        "- **Ecuación**:\n",
        "$$\n",
        "  L = - \\frac{1}{N} \\sum_{i=1}^{N} \\log(p_i)\n",
        "$$\n",
        "  Donde $p_i$ es la probabilidad predicha para la clase correcta.\n",
        "- **Cuándo usar**: Cuando las etiquetas están en **formato de enteros** (por ejemplo, [0, 1, 2, ..., 9]).\n",
        "\n",
        "**Código ejemplo**:\n",
        "```python\n",
        "model.compile(optimizer='adam',\n",
        "              loss='sparse_categorical_crossentropy',\n",
        "              metrics=['accuracy'])\n",
        "```\n",
        "\n",
        "### **2. Categorical Crossentropy**\n",
        "- **Uso**: También para **problemas multiclase**, pero cuando las etiquetas están **one-hot encoded** (es decir, en formato de vectores binarios, como `[0, 1, 0, ..., 0]`).\n",
        "- **Ecuación**: Similar a `sparse_categorical_crossentropy`.\n",
        "- **Cuándo usar**: Si se están utilizando etiquetas **one-hot encoded** en lugar de enteros.\n",
        "\n",
        "**Diferencia clave con `sparse_categorical_crossentropy`**:\n",
        "- **Sparse** espera etiquetas enteras (ej.: 0, 1, 2).\n",
        "- **Categorical** espera etiquetas **one-hot** (ej.: `[0, 1, 0, 0, ..., 0]`).\n",
        "\n",
        "---\n",
        "\n",
        "### **3. Binary Crossentropy**\n",
        "- **Uso**: Para **clasificación binaria** (por ejemplo, clasificación de si un correo es spam o no).\n",
        "- **Ecuación**:\n",
        "  $$\n",
        "  L = - \\frac{1}{N} \\sum_{i=1}^{N} \\left[ y_i \\log(\\hat{y}_i) + (1 - y_i) \\log(1 - \\hat{y}_i) \\right]\n",
        "  $$\n",
        "  Donde $y_i$ es la etiqueta real (0 o 1) y $\\hat{y}_i$ es la probabilidad predicha.\n",
        "\n",
        "- **Cuándo usar**: Cuando el objetivo es **clasificación binaria**.\n",
        "\n",
        "**Código ejemplo**:\n",
        "```python\n",
        "model.compile(optimizer='adam',\n",
        "              loss='binary_crossentropy',\n",
        "              metrics=['accuracy'])\n",
        "```\n",
        "\n",
        "---\n",
        "\n",
        "### **4. Mean Squared Error (MSE)**\n",
        "- **Uso**: Para **problemas de regresión**, donde el objetivo es predecir valores continuos (como precios de casas).\n",
        "- **Ecuación**:\n",
        "  $$\n",
        "  MSE = \\frac{1}{N} \\sum_{i=1}^{N} (y_i - \\hat{y}_i)^2\n",
        "  $$\n",
        "  Donde $y_i$ es el valor real y $\\hat{y}_i$ es el valor predicho.\n",
        "\n",
        "- **Interpretación**: Penaliza los errores más grandes de forma más severa, lo que lo hace sensible a outliers.\n",
        "- **Cuándo usar**: En **regresión**, donde el modelo predice valores numéricos continuos.\n",
        "\n",
        "**Código ejemplo**:\n",
        "```python\n",
        "model.compile(optimizer='adam',\n",
        "              loss='mean_squared_error',\n",
        "              metrics=['mae'])\n",
        "```\n",
        "\n",
        "---\n",
        "\n",
        "### **5. Mean Absolute Error (MAE)**\n",
        "- **Uso**: Para **regresión**, mide el promedio del error absoluto entre las predicciones y los valores reales.\n",
        "- **Ecuación**:\n",
        "  $$\n",
        "  MAE = \\frac{1}{N} \\sum_{i=1}^{N} |y_i - \\hat{y}_i|\n",
        "  $$\n",
        "- **Interpretación**: Menos sensible a los outliers que el MSE.\n",
        "- **Cuándo usar**: En regresiones donde se busca minimizar el error absoluto medio.\n",
        "\n",
        "**Código ejemplo**:\n",
        "```python\n",
        "model.compile(optimizer='adam',\n",
        "              loss='mean_absolute_error',\n",
        "              metrics=['mae'])\n",
        "```\n",
        "\n",
        "---\n",
        "\n",
        "### **6. Huber Loss**\n",
        "- **Uso**: Una combinación entre **MSE** y **MAE**, para manejar outliers de forma más robusta.\n",
        "- **Ecuación**:\n",
        "  $$\n",
        "  L_{\\delta}(a) = \\begin{cases}\n",
        "  \\frac{1}{2} (a)^2 & \\text{para } |a| \\leq \\delta \\\\\n",
        "  \\delta \\cdot (|a| - \\frac{1}{2} \\delta) & \\text{para } |a| > \\delta\n",
        "  \\end{cases}\n",
        "  $$\n",
        "- **Cuándo usar**: En problemas de **regresión** con outliers.\n",
        "\n",
        "---\n",
        "\n",
        "## **Selección de la función de pérdida adecuada**\n",
        "- **Clasificación binaria**: `binary_crossentropy`\n",
        "- **Clasificación multiclase (etiquetas enteras)**: `sparse_categorical_crossentropy`\n",
        "- **Clasificación multiclase (one-hot encoded)**: `categorical_crossentropy`\n",
        "- **Regresión (valores continuos)**: `mean_squared_error` o `mean_absolute_error`\n",
        "- **Regresión con outliers**: `huber_loss`\n",
        "\n",
        "---\n",
        "\n",
        "Cada función de pérdida está diseñada para **minimizar diferentes tipos de errores**. Seleccionar la pérdida adecuada garantiza que el modelo aprenda de manera eficiente para el problema específico. Es importante experimentar con las funciones para ver cuál se adapta mejor al conjunto de datos y al problema que estamos resolviendo.\n",
        "\n",
        "---\n"
      ],
      "metadata": {
        "id": "LGGxfemqMOEx"
      }
    },
    {
      "cell_type": "markdown",
      "source": [
        "## **¿Por qué a veces usamos 3 datasets?**\n",
        "\n",
        "Al entrenar un modelo de Machine Learning, es fundamental dividir los datos en **tres conjuntos**: **entrenamiento (Training Set)**, **validación (Validation Set)** y **prueba (Test Set)**. Cada uno cumple una función específica en el proceso de desarrollo del modelo para asegurar un rendimiento óptimo y evitar problemas como el **overfitting** (sobreajuste). A continuación, explicamos la importancia de cada uno.\n",
        "\n",
        "---\n",
        "\n",
        "### **1. Conjunto de Entrenamiento (Training Set)**\n",
        "- **Función:** Se utiliza para **ajustar los pesos y parámetros del modelo**. Aquí es donde el modelo \"aprende\" a reconocer patrones en los datos de entrada.\n",
        "- **Propósito:** Permitir que el modelo encuentre relaciones entre los datos de entrada y los resultados esperados.\n",
        "- **Riesgo:** Si solo se usa este conjunto, el modelo puede memorizar los datos en lugar de generalizar, provocando **sobreajuste**.\n",
        "- **Tamaño:** Generalmente, es el **70-80%** de los datos disponibles.\n",
        "\n",
        "---\n",
        "\n",
        "### **2. Conjunto de Validación (Validation Set)**\n",
        "- **Función:** Se utiliza durante el entrenamiento para **ajustar los hiperparámetros** (como la tasa de aprendizaje o la regularización).\n",
        "- **Propósito:** Ayudar a detectar **overfitting** y ajustar el modelo en el proceso sin modificar directamente los pesos.\n",
        "- **Uso:** Permite elegir la configuración más eficiente para el modelo. Se consulta este conjunto repetidamente mientras se entrena.\n",
        "- **Tamaño:** Entre **10-15%** de los datos.\n",
        "\n",
        "---\n",
        "\n",
        "### **3. Conjunto de Prueba (Test Set)**\n",
        "- **Función:** Se mantiene completamente separado hasta el final del proceso. No influye ni en los parámetros ni en los hiperparámetros del modelo.\n",
        "- **Propósito:** **Evaluar la capacidad de generalización** del modelo sobre datos no vistos, simulando cómo se comportaría en el mundo real.\n",
        "- **Uso:** Solo se consulta al final, después de entrenar y validar el modelo, para obtener una **medición objetiva** de su rendimiento.\n",
        "- **Tamaño:** Aproximadamente **10-15%** de los datos.\n",
        "\n",
        "---\n",
        "\n",
        "### **¿Por qué no es suficiente usar solo dos conjuntos?**\n",
        "\n",
        "Si solo usamos **entrenamiento y prueba**, no tendremos una manera adecuada de ajustar los **hiperparámetros** sin sesgar los resultados del conjunto de prueba. Sin un conjunto de validación, podríamos seleccionar hiperparámetros que funcionan bien únicamente para los datos de entrenamiento, pero no para datos nuevos.\n",
        "\n",
        "---\n",
        "\n",
        "### **¿Cómo se relacionan entre sí?**\n",
        "\n",
        "1. **Entrenamiento:** El modelo aprende patrones a partir de los datos.  \n",
        "2. **Validación:** Ajustamos hiperparámetros y verificamos que el modelo no esté sobreajustando.  \n",
        "3. **Prueba:** Obtenemos una evaluación final, simulando el rendimiento con datos reales.\n",
        "\n",
        "\n",
        "El uso de **tres conjuntos** permite que el modelo se entrene de manera eficiente, evitando el **sobreajuste** y asegurando que pueda generalizar a datos nuevos. Esta división garantiza que las decisiones tomadas durante el desarrollo no se vean influenciadas por los datos de prueba, permitiendo una evaluación objetiva del modelo."
      ],
      "metadata": {
        "id": "aDQFSbR8M9Vn"
      }
    },
    {
      "cell_type": "markdown",
      "source": [
        "# **Ahora veamos un caso de regresión...**"
      ],
      "metadata": {
        "id": "7JP5tqoCUtAB"
      }
    },
    {
      "cell_type": "markdown",
      "source": [
        "### **Paso 1: Importar las librerías necesarias**"
      ],
      "metadata": {
        "id": "MZhHnyUqU2ZH"
      }
    },
    {
      "cell_type": "code",
      "source": [
        "import numpy as np\n",
        "import matplotlib.pyplot as plt\n",
        "from tensorflow.keras.models import Sequential\n",
        "from tensorflow.keras.layers import Dense, Input, Dropout\n",
        "from tensorflow.keras.optimizers import Adam\n",
        "from sklearn.datasets import fetch_california_housing\n",
        "from sklearn.model_selection import train_test_split\n",
        "from sklearn.preprocessing import StandardScaler\n",
        "import time\n",
        "import pandas as pd\n"
      ],
      "metadata": {
        "id": "DV-TamINV08G"
      },
      "execution_count": 13,
      "outputs": []
    },
    {
      "cell_type": "markdown",
      "source": [
        "\n",
        "### **Paso 2: Cargar y preparar el dataset**"
      ],
      "metadata": {
        "id": "rdTNF7qfV4P1"
      }
    },
    {
      "cell_type": "code",
      "source": [
        "# Cargar el dataset de California Housing\n",
        "data = fetch_california_housing()\n",
        "X, y = data.data, data.target\n",
        "\n",
        "# División del dataset en entrenamiento y prueba\n",
        "X_train, X_test, y_train, y_test = train_test_split(X, y, test_size=0.2, random_state=42)\n",
        "\n",
        "# Escalar los datos para que tengan media 0 y desviación estándar 1\n",
        "scaler = StandardScaler()\n",
        "X_train = scaler.fit_transform(X_train)\n",
        "X_test = scaler.transform(X_test)\n",
        "\n",
        "# Mostrar las dimensiones de los datos\n",
        "print(f\"X_train shape: {X_train.shape}, X_test shape: {X_test.shape}\")\n",
        "print(f\"y_train shape: {y_train.shape}, y_test shape: {y_test.shape}\")\n"
      ],
      "metadata": {
        "colab": {
          "base_uri": "https://localhost:8080/"
        },
        "id": "Qg23dMJdV-RA",
        "outputId": "5cd42f9b-3d69-4d79-9fa5-b6a1c4dba672"
      },
      "execution_count": 14,
      "outputs": [
        {
          "output_type": "stream",
          "name": "stdout",
          "text": [
            "X_train shape: (16512, 8), X_test shape: (4128, 8)\n",
            "y_train shape: (16512,), y_test shape: (4128,)\n"
          ]
        }
      ]
    },
    {
      "cell_type": "code",
      "source": [
        "X_train_df = pd.DataFrame(X_train, columns=data.feature_names)\n",
        "X_train_df.head()\n"
      ],
      "metadata": {
        "colab": {
          "base_uri": "https://localhost:8080/",
          "height": 206
        },
        "id": "j9mCFM8ZZsqQ",
        "outputId": "2864941b-8528-4d08-832d-f7d47bf45a7f"
      },
      "execution_count": 15,
      "outputs": [
        {
          "output_type": "execute_result",
          "data": {
            "text/plain": [
              "     MedInc  HouseAge  AveRooms  AveBedrms  Population  AveOccup  Latitude  \\\n",
              "0 -0.326196  0.348490 -0.174916  -0.208365    0.768276  0.051376 -1.372811   \n",
              "1 -0.035843  1.618118 -0.402835  -0.128530   -0.098901 -0.117362 -0.876696   \n",
              "2  0.144701 -1.952710  0.088216  -0.257538   -0.449818 -0.032280 -0.460146   \n",
              "3 -1.017864  0.586545 -0.600015  -0.145156   -0.007434  0.077507 -1.382172   \n",
              "4 -0.171488  1.142008  0.349007   0.086624   -0.485877 -0.068832  0.532084   \n",
              "\n",
              "   Longitude  \n",
              "0   1.272587  \n",
              "1   0.709162  \n",
              "2  -0.447603  \n",
              "3   1.232698  \n",
              "4  -0.108551  "
            ],
            "text/html": [
              "\n",
              "  <div id=\"df-5501f518-8244-4ed9-87a9-faa227326fd2\" class=\"colab-df-container\">\n",
              "    <div>\n",
              "<style scoped>\n",
              "    .dataframe tbody tr th:only-of-type {\n",
              "        vertical-align: middle;\n",
              "    }\n",
              "\n",
              "    .dataframe tbody tr th {\n",
              "        vertical-align: top;\n",
              "    }\n",
              "\n",
              "    .dataframe thead th {\n",
              "        text-align: right;\n",
              "    }\n",
              "</style>\n",
              "<table border=\"1\" class=\"dataframe\">\n",
              "  <thead>\n",
              "    <tr style=\"text-align: right;\">\n",
              "      <th></th>\n",
              "      <th>MedInc</th>\n",
              "      <th>HouseAge</th>\n",
              "      <th>AveRooms</th>\n",
              "      <th>AveBedrms</th>\n",
              "      <th>Population</th>\n",
              "      <th>AveOccup</th>\n",
              "      <th>Latitude</th>\n",
              "      <th>Longitude</th>\n",
              "    </tr>\n",
              "  </thead>\n",
              "  <tbody>\n",
              "    <tr>\n",
              "      <th>0</th>\n",
              "      <td>-0.326196</td>\n",
              "      <td>0.348490</td>\n",
              "      <td>-0.174916</td>\n",
              "      <td>-0.208365</td>\n",
              "      <td>0.768276</td>\n",
              "      <td>0.051376</td>\n",
              "      <td>-1.372811</td>\n",
              "      <td>1.272587</td>\n",
              "    </tr>\n",
              "    <tr>\n",
              "      <th>1</th>\n",
              "      <td>-0.035843</td>\n",
              "      <td>1.618118</td>\n",
              "      <td>-0.402835</td>\n",
              "      <td>-0.128530</td>\n",
              "      <td>-0.098901</td>\n",
              "      <td>-0.117362</td>\n",
              "      <td>-0.876696</td>\n",
              "      <td>0.709162</td>\n",
              "    </tr>\n",
              "    <tr>\n",
              "      <th>2</th>\n",
              "      <td>0.144701</td>\n",
              "      <td>-1.952710</td>\n",
              "      <td>0.088216</td>\n",
              "      <td>-0.257538</td>\n",
              "      <td>-0.449818</td>\n",
              "      <td>-0.032280</td>\n",
              "      <td>-0.460146</td>\n",
              "      <td>-0.447603</td>\n",
              "    </tr>\n",
              "    <tr>\n",
              "      <th>3</th>\n",
              "      <td>-1.017864</td>\n",
              "      <td>0.586545</td>\n",
              "      <td>-0.600015</td>\n",
              "      <td>-0.145156</td>\n",
              "      <td>-0.007434</td>\n",
              "      <td>0.077507</td>\n",
              "      <td>-1.382172</td>\n",
              "      <td>1.232698</td>\n",
              "    </tr>\n",
              "    <tr>\n",
              "      <th>4</th>\n",
              "      <td>-0.171488</td>\n",
              "      <td>1.142008</td>\n",
              "      <td>0.349007</td>\n",
              "      <td>0.086624</td>\n",
              "      <td>-0.485877</td>\n",
              "      <td>-0.068832</td>\n",
              "      <td>0.532084</td>\n",
              "      <td>-0.108551</td>\n",
              "    </tr>\n",
              "  </tbody>\n",
              "</table>\n",
              "</div>\n",
              "    <div class=\"colab-df-buttons\">\n",
              "\n",
              "  <div class=\"colab-df-container\">\n",
              "    <button class=\"colab-df-convert\" onclick=\"convertToInteractive('df-5501f518-8244-4ed9-87a9-faa227326fd2')\"\n",
              "            title=\"Convert this dataframe to an interactive table.\"\n",
              "            style=\"display:none;\">\n",
              "\n",
              "  <svg xmlns=\"http://www.w3.org/2000/svg\" height=\"24px\" viewBox=\"0 -960 960 960\">\n",
              "    <path d=\"M120-120v-720h720v720H120Zm60-500h600v-160H180v160Zm220 220h160v-160H400v160Zm0 220h160v-160H400v160ZM180-400h160v-160H180v160Zm440 0h160v-160H620v160ZM180-180h160v-160H180v160Zm440 0h160v-160H620v160Z\"/>\n",
              "  </svg>\n",
              "    </button>\n",
              "\n",
              "  <style>\n",
              "    .colab-df-container {\n",
              "      display:flex;\n",
              "      gap: 12px;\n",
              "    }\n",
              "\n",
              "    .colab-df-convert {\n",
              "      background-color: #E8F0FE;\n",
              "      border: none;\n",
              "      border-radius: 50%;\n",
              "      cursor: pointer;\n",
              "      display: none;\n",
              "      fill: #1967D2;\n",
              "      height: 32px;\n",
              "      padding: 0 0 0 0;\n",
              "      width: 32px;\n",
              "    }\n",
              "\n",
              "    .colab-df-convert:hover {\n",
              "      background-color: #E2EBFA;\n",
              "      box-shadow: 0px 1px 2px rgba(60, 64, 67, 0.3), 0px 1px 3px 1px rgba(60, 64, 67, 0.15);\n",
              "      fill: #174EA6;\n",
              "    }\n",
              "\n",
              "    .colab-df-buttons div {\n",
              "      margin-bottom: 4px;\n",
              "    }\n",
              "\n",
              "    [theme=dark] .colab-df-convert {\n",
              "      background-color: #3B4455;\n",
              "      fill: #D2E3FC;\n",
              "    }\n",
              "\n",
              "    [theme=dark] .colab-df-convert:hover {\n",
              "      background-color: #434B5C;\n",
              "      box-shadow: 0px 1px 3px 1px rgba(0, 0, 0, 0.15);\n",
              "      filter: drop-shadow(0px 1px 2px rgba(0, 0, 0, 0.3));\n",
              "      fill: #FFFFFF;\n",
              "    }\n",
              "  </style>\n",
              "\n",
              "    <script>\n",
              "      const buttonEl =\n",
              "        document.querySelector('#df-5501f518-8244-4ed9-87a9-faa227326fd2 button.colab-df-convert');\n",
              "      buttonEl.style.display =\n",
              "        google.colab.kernel.accessAllowed ? 'block' : 'none';\n",
              "\n",
              "      async function convertToInteractive(key) {\n",
              "        const element = document.querySelector('#df-5501f518-8244-4ed9-87a9-faa227326fd2');\n",
              "        const dataTable =\n",
              "          await google.colab.kernel.invokeFunction('convertToInteractive',\n",
              "                                                    [key], {});\n",
              "        if (!dataTable) return;\n",
              "\n",
              "        const docLinkHtml = 'Like what you see? Visit the ' +\n",
              "          '<a target=\"_blank\" href=https://colab.research.google.com/notebooks/data_table.ipynb>data table notebook</a>'\n",
              "          + ' to learn more about interactive tables.';\n",
              "        element.innerHTML = '';\n",
              "        dataTable['output_type'] = 'display_data';\n",
              "        await google.colab.output.renderOutput(dataTable, element);\n",
              "        const docLink = document.createElement('div');\n",
              "        docLink.innerHTML = docLinkHtml;\n",
              "        element.appendChild(docLink);\n",
              "      }\n",
              "    </script>\n",
              "  </div>\n",
              "\n",
              "\n",
              "<div id=\"df-9991103f-21e0-4e71-ad70-da9d8a21d3cd\">\n",
              "  <button class=\"colab-df-quickchart\" onclick=\"quickchart('df-9991103f-21e0-4e71-ad70-da9d8a21d3cd')\"\n",
              "            title=\"Suggest charts\"\n",
              "            style=\"display:none;\">\n",
              "\n",
              "<svg xmlns=\"http://www.w3.org/2000/svg\" height=\"24px\"viewBox=\"0 0 24 24\"\n",
              "     width=\"24px\">\n",
              "    <g>\n",
              "        <path d=\"M19 3H5c-1.1 0-2 .9-2 2v14c0 1.1.9 2 2 2h14c1.1 0 2-.9 2-2V5c0-1.1-.9-2-2-2zM9 17H7v-7h2v7zm4 0h-2V7h2v10zm4 0h-2v-4h2v4z\"/>\n",
              "    </g>\n",
              "</svg>\n",
              "  </button>\n",
              "\n",
              "<style>\n",
              "  .colab-df-quickchart {\n",
              "      --bg-color: #E8F0FE;\n",
              "      --fill-color: #1967D2;\n",
              "      --hover-bg-color: #E2EBFA;\n",
              "      --hover-fill-color: #174EA6;\n",
              "      --disabled-fill-color: #AAA;\n",
              "      --disabled-bg-color: #DDD;\n",
              "  }\n",
              "\n",
              "  [theme=dark] .colab-df-quickchart {\n",
              "      --bg-color: #3B4455;\n",
              "      --fill-color: #D2E3FC;\n",
              "      --hover-bg-color: #434B5C;\n",
              "      --hover-fill-color: #FFFFFF;\n",
              "      --disabled-bg-color: #3B4455;\n",
              "      --disabled-fill-color: #666;\n",
              "  }\n",
              "\n",
              "  .colab-df-quickchart {\n",
              "    background-color: var(--bg-color);\n",
              "    border: none;\n",
              "    border-radius: 50%;\n",
              "    cursor: pointer;\n",
              "    display: none;\n",
              "    fill: var(--fill-color);\n",
              "    height: 32px;\n",
              "    padding: 0;\n",
              "    width: 32px;\n",
              "  }\n",
              "\n",
              "  .colab-df-quickchart:hover {\n",
              "    background-color: var(--hover-bg-color);\n",
              "    box-shadow: 0 1px 2px rgba(60, 64, 67, 0.3), 0 1px 3px 1px rgba(60, 64, 67, 0.15);\n",
              "    fill: var(--button-hover-fill-color);\n",
              "  }\n",
              "\n",
              "  .colab-df-quickchart-complete:disabled,\n",
              "  .colab-df-quickchart-complete:disabled:hover {\n",
              "    background-color: var(--disabled-bg-color);\n",
              "    fill: var(--disabled-fill-color);\n",
              "    box-shadow: none;\n",
              "  }\n",
              "\n",
              "  .colab-df-spinner {\n",
              "    border: 2px solid var(--fill-color);\n",
              "    border-color: transparent;\n",
              "    border-bottom-color: var(--fill-color);\n",
              "    animation:\n",
              "      spin 1s steps(1) infinite;\n",
              "  }\n",
              "\n",
              "  @keyframes spin {\n",
              "    0% {\n",
              "      border-color: transparent;\n",
              "      border-bottom-color: var(--fill-color);\n",
              "      border-left-color: var(--fill-color);\n",
              "    }\n",
              "    20% {\n",
              "      border-color: transparent;\n",
              "      border-left-color: var(--fill-color);\n",
              "      border-top-color: var(--fill-color);\n",
              "    }\n",
              "    30% {\n",
              "      border-color: transparent;\n",
              "      border-left-color: var(--fill-color);\n",
              "      border-top-color: var(--fill-color);\n",
              "      border-right-color: var(--fill-color);\n",
              "    }\n",
              "    40% {\n",
              "      border-color: transparent;\n",
              "      border-right-color: var(--fill-color);\n",
              "      border-top-color: var(--fill-color);\n",
              "    }\n",
              "    60% {\n",
              "      border-color: transparent;\n",
              "      border-right-color: var(--fill-color);\n",
              "    }\n",
              "    80% {\n",
              "      border-color: transparent;\n",
              "      border-right-color: var(--fill-color);\n",
              "      border-bottom-color: var(--fill-color);\n",
              "    }\n",
              "    90% {\n",
              "      border-color: transparent;\n",
              "      border-bottom-color: var(--fill-color);\n",
              "    }\n",
              "  }\n",
              "</style>\n",
              "\n",
              "  <script>\n",
              "    async function quickchart(key) {\n",
              "      const quickchartButtonEl =\n",
              "        document.querySelector('#' + key + ' button');\n",
              "      quickchartButtonEl.disabled = true;  // To prevent multiple clicks.\n",
              "      quickchartButtonEl.classList.add('colab-df-spinner');\n",
              "      try {\n",
              "        const charts = await google.colab.kernel.invokeFunction(\n",
              "            'suggestCharts', [key], {});\n",
              "      } catch (error) {\n",
              "        console.error('Error during call to suggestCharts:', error);\n",
              "      }\n",
              "      quickchartButtonEl.classList.remove('colab-df-spinner');\n",
              "      quickchartButtonEl.classList.add('colab-df-quickchart-complete');\n",
              "    }\n",
              "    (() => {\n",
              "      let quickchartButtonEl =\n",
              "        document.querySelector('#df-9991103f-21e0-4e71-ad70-da9d8a21d3cd button');\n",
              "      quickchartButtonEl.style.display =\n",
              "        google.colab.kernel.accessAllowed ? 'block' : 'none';\n",
              "    })();\n",
              "  </script>\n",
              "</div>\n",
              "\n",
              "    </div>\n",
              "  </div>\n"
            ],
            "application/vnd.google.colaboratory.intrinsic+json": {
              "type": "dataframe",
              "variable_name": "X_train_df",
              "summary": "{\n  \"name\": \"X_train_df\",\n  \"rows\": 16512,\n  \"fields\": [\n    {\n      \"column\": \"MedInc\",\n      \"properties\": {\n        \"dtype\": \"number\",\n        \"std\": 1.0000302823832286,\n        \"min\": -1.7754384434994577,\n        \"max\": 5.839267946533965,\n        \"num_unique_values\": 10932,\n        \"samples\": [\n          0.976846089828715,\n          0.8408860696648793,\n          0.5903394276402902\n        ],\n        \"semantic_type\": \"\",\n        \"description\": \"\"\n      }\n    },\n    {\n      \"column\": \"HouseAge\",\n      \"properties\": {\n        \"dtype\": \"number\",\n        \"std\": 1.0000302823832388,\n        \"min\": -2.1907655106085544,\n        \"max\": 1.8561733525483044,\n        \"num_unique_values\": 52,\n        \"samples\": [\n          -1.079841116800789,\n          0.7452489587405392,\n          1.776821610133464\n        ],\n        \"semantic_type\": \"\",\n        \"description\": \"\"\n      }\n    },\n    {\n      \"column\": \"AveRooms\",\n      \"properties\": {\n        \"dtype\": \"number\",\n        \"std\": 1.0000302823832292,\n        \"min\": -1.904386218241921,\n        \"max\": 57.16655150785949,\n        \"num_unique_values\": 15671,\n        \"samples\": [\n          -0.09528430344017857,\n          0.3228337732640579,\n          -0.3011359550188692\n        ],\n        \"semantic_type\": \"\",\n        \"description\": \"\"\n      }\n    },\n    {\n      \"column\": \"AveBedrms\",\n      \"properties\": {\n        \"dtype\": \"number\",\n        \"std\": 1.0000302823832317,\n        \"min\": -1.762116579436533,\n        \"max\": 56.647271684169475,\n        \"num_unique_values\": 11949,\n        \"samples\": [\n          5.342610208555783,\n          -0.1382698327812217,\n          -0.2069302865445352\n        ],\n        \"semantic_type\": \"\",\n        \"description\": \"\"\n      }\n    },\n    {\n      \"column\": \"Population\",\n      \"properties\": {\n        \"dtype\": \"number\",\n        \"std\": 1.0000302823832368,\n        \"min\": -1.2519133921041614,\n        \"max\": 30.127428107235136,\n        \"num_unique_values\": 3639,\n        \"samples\": [\n          1.5281560739518243,\n          -0.44805907638914366,\n          -1.0768947828839333\n        ],\n        \"semantic_type\": \"\",\n        \"description\": \"\"\n      }\n    },\n    {\n      \"column\": \"AveOccup\",\n      \"properties\": {\n        \"dtype\": \"number\",\n        \"std\": 1.0000302823832325,\n        \"min\": -0.20768455488371682,\n        \"max\": 107.11644677509909,\n        \"num_unique_values\": 15297,\n        \"samples\": [\n          -0.0640010197138933,\n          -0.0823363226486305,\n          0.025335037717335987\n        ],\n        \"semantic_type\": \"\",\n        \"description\": \"\"\n      }\n    },\n    {\n      \"column\": \"Latitude\",\n      \"properties\": {\n        \"dtype\": \"number\",\n        \"std\": 1.0000302823832377,\n        \"min\": -1.4476965100470158,\n        \"max\": 2.9518155100351433,\n        \"num_unique_values\": 845,\n        \"samples\": [\n          0.6912151848227135,\n          0.8409858067829572,\n          -0.3618595008352495\n        ],\n        \"semantic_type\": \"\",\n        \"description\": \"\"\n      }\n    },\n    {\n      \"column\": \"Longitude\",\n      \"properties\": {\n        \"dtype\": \"number\",\n        \"std\": 1.0000302823832516,\n        \"min\": -2.3772071424289805,\n        \"max\": 2.6287940593739747,\n        \"num_unique_values\": 833,\n        \"samples\": [\n          1.5318615251143608,\n          -1.7190476218732165,\n          1.1828375369408533\n        ],\n        \"semantic_type\": \"\",\n        \"description\": \"\"\n      }\n    }\n  ]\n}"
            }
          },
          "metadata": {},
          "execution_count": 15
        }
      ]
    },
    {
      "cell_type": "code",
      "source": [
        "y_train_df = pd.DataFrame(y_train, columns=data.target_names)\n",
        "y_train_df.head()"
      ],
      "metadata": {
        "colab": {
          "base_uri": "https://localhost:8080/",
          "height": 206
        },
        "id": "NT1nXkQ0aOhY",
        "outputId": "7d5eed4f-64e7-44cc-c88f-52333379b2e1"
      },
      "execution_count": 16,
      "outputs": [
        {
          "output_type": "execute_result",
          "data": {
            "text/plain": [
              "   MedHouseVal\n",
              "0        1.030\n",
              "1        3.821\n",
              "2        1.726\n",
              "3        0.934\n",
              "4        0.965"
            ],
            "text/html": [
              "\n",
              "  <div id=\"df-12070c31-587e-4bdc-a21b-4b4496de8fd5\" class=\"colab-df-container\">\n",
              "    <div>\n",
              "<style scoped>\n",
              "    .dataframe tbody tr th:only-of-type {\n",
              "        vertical-align: middle;\n",
              "    }\n",
              "\n",
              "    .dataframe tbody tr th {\n",
              "        vertical-align: top;\n",
              "    }\n",
              "\n",
              "    .dataframe thead th {\n",
              "        text-align: right;\n",
              "    }\n",
              "</style>\n",
              "<table border=\"1\" class=\"dataframe\">\n",
              "  <thead>\n",
              "    <tr style=\"text-align: right;\">\n",
              "      <th></th>\n",
              "      <th>MedHouseVal</th>\n",
              "    </tr>\n",
              "  </thead>\n",
              "  <tbody>\n",
              "    <tr>\n",
              "      <th>0</th>\n",
              "      <td>1.030</td>\n",
              "    </tr>\n",
              "    <tr>\n",
              "      <th>1</th>\n",
              "      <td>3.821</td>\n",
              "    </tr>\n",
              "    <tr>\n",
              "      <th>2</th>\n",
              "      <td>1.726</td>\n",
              "    </tr>\n",
              "    <tr>\n",
              "      <th>3</th>\n",
              "      <td>0.934</td>\n",
              "    </tr>\n",
              "    <tr>\n",
              "      <th>4</th>\n",
              "      <td>0.965</td>\n",
              "    </tr>\n",
              "  </tbody>\n",
              "</table>\n",
              "</div>\n",
              "    <div class=\"colab-df-buttons\">\n",
              "\n",
              "  <div class=\"colab-df-container\">\n",
              "    <button class=\"colab-df-convert\" onclick=\"convertToInteractive('df-12070c31-587e-4bdc-a21b-4b4496de8fd5')\"\n",
              "            title=\"Convert this dataframe to an interactive table.\"\n",
              "            style=\"display:none;\">\n",
              "\n",
              "  <svg xmlns=\"http://www.w3.org/2000/svg\" height=\"24px\" viewBox=\"0 -960 960 960\">\n",
              "    <path d=\"M120-120v-720h720v720H120Zm60-500h600v-160H180v160Zm220 220h160v-160H400v160Zm0 220h160v-160H400v160ZM180-400h160v-160H180v160Zm440 0h160v-160H620v160ZM180-180h160v-160H180v160Zm440 0h160v-160H620v160Z\"/>\n",
              "  </svg>\n",
              "    </button>\n",
              "\n",
              "  <style>\n",
              "    .colab-df-container {\n",
              "      display:flex;\n",
              "      gap: 12px;\n",
              "    }\n",
              "\n",
              "    .colab-df-convert {\n",
              "      background-color: #E8F0FE;\n",
              "      border: none;\n",
              "      border-radius: 50%;\n",
              "      cursor: pointer;\n",
              "      display: none;\n",
              "      fill: #1967D2;\n",
              "      height: 32px;\n",
              "      padding: 0 0 0 0;\n",
              "      width: 32px;\n",
              "    }\n",
              "\n",
              "    .colab-df-convert:hover {\n",
              "      background-color: #E2EBFA;\n",
              "      box-shadow: 0px 1px 2px rgba(60, 64, 67, 0.3), 0px 1px 3px 1px rgba(60, 64, 67, 0.15);\n",
              "      fill: #174EA6;\n",
              "    }\n",
              "\n",
              "    .colab-df-buttons div {\n",
              "      margin-bottom: 4px;\n",
              "    }\n",
              "\n",
              "    [theme=dark] .colab-df-convert {\n",
              "      background-color: #3B4455;\n",
              "      fill: #D2E3FC;\n",
              "    }\n",
              "\n",
              "    [theme=dark] .colab-df-convert:hover {\n",
              "      background-color: #434B5C;\n",
              "      box-shadow: 0px 1px 3px 1px rgba(0, 0, 0, 0.15);\n",
              "      filter: drop-shadow(0px 1px 2px rgba(0, 0, 0, 0.3));\n",
              "      fill: #FFFFFF;\n",
              "    }\n",
              "  </style>\n",
              "\n",
              "    <script>\n",
              "      const buttonEl =\n",
              "        document.querySelector('#df-12070c31-587e-4bdc-a21b-4b4496de8fd5 button.colab-df-convert');\n",
              "      buttonEl.style.display =\n",
              "        google.colab.kernel.accessAllowed ? 'block' : 'none';\n",
              "\n",
              "      async function convertToInteractive(key) {\n",
              "        const element = document.querySelector('#df-12070c31-587e-4bdc-a21b-4b4496de8fd5');\n",
              "        const dataTable =\n",
              "          await google.colab.kernel.invokeFunction('convertToInteractive',\n",
              "                                                    [key], {});\n",
              "        if (!dataTable) return;\n",
              "\n",
              "        const docLinkHtml = 'Like what you see? Visit the ' +\n",
              "          '<a target=\"_blank\" href=https://colab.research.google.com/notebooks/data_table.ipynb>data table notebook</a>'\n",
              "          + ' to learn more about interactive tables.';\n",
              "        element.innerHTML = '';\n",
              "        dataTable['output_type'] = 'display_data';\n",
              "        await google.colab.output.renderOutput(dataTable, element);\n",
              "        const docLink = document.createElement('div');\n",
              "        docLink.innerHTML = docLinkHtml;\n",
              "        element.appendChild(docLink);\n",
              "      }\n",
              "    </script>\n",
              "  </div>\n",
              "\n",
              "\n",
              "<div id=\"df-b65677e6-b96c-4e2b-8773-d4b03c1305ae\">\n",
              "  <button class=\"colab-df-quickchart\" onclick=\"quickchart('df-b65677e6-b96c-4e2b-8773-d4b03c1305ae')\"\n",
              "            title=\"Suggest charts\"\n",
              "            style=\"display:none;\">\n",
              "\n",
              "<svg xmlns=\"http://www.w3.org/2000/svg\" height=\"24px\"viewBox=\"0 0 24 24\"\n",
              "     width=\"24px\">\n",
              "    <g>\n",
              "        <path d=\"M19 3H5c-1.1 0-2 .9-2 2v14c0 1.1.9 2 2 2h14c1.1 0 2-.9 2-2V5c0-1.1-.9-2-2-2zM9 17H7v-7h2v7zm4 0h-2V7h2v10zm4 0h-2v-4h2v4z\"/>\n",
              "    </g>\n",
              "</svg>\n",
              "  </button>\n",
              "\n",
              "<style>\n",
              "  .colab-df-quickchart {\n",
              "      --bg-color: #E8F0FE;\n",
              "      --fill-color: #1967D2;\n",
              "      --hover-bg-color: #E2EBFA;\n",
              "      --hover-fill-color: #174EA6;\n",
              "      --disabled-fill-color: #AAA;\n",
              "      --disabled-bg-color: #DDD;\n",
              "  }\n",
              "\n",
              "  [theme=dark] .colab-df-quickchart {\n",
              "      --bg-color: #3B4455;\n",
              "      --fill-color: #D2E3FC;\n",
              "      --hover-bg-color: #434B5C;\n",
              "      --hover-fill-color: #FFFFFF;\n",
              "      --disabled-bg-color: #3B4455;\n",
              "      --disabled-fill-color: #666;\n",
              "  }\n",
              "\n",
              "  .colab-df-quickchart {\n",
              "    background-color: var(--bg-color);\n",
              "    border: none;\n",
              "    border-radius: 50%;\n",
              "    cursor: pointer;\n",
              "    display: none;\n",
              "    fill: var(--fill-color);\n",
              "    height: 32px;\n",
              "    padding: 0;\n",
              "    width: 32px;\n",
              "  }\n",
              "\n",
              "  .colab-df-quickchart:hover {\n",
              "    background-color: var(--hover-bg-color);\n",
              "    box-shadow: 0 1px 2px rgba(60, 64, 67, 0.3), 0 1px 3px 1px rgba(60, 64, 67, 0.15);\n",
              "    fill: var(--button-hover-fill-color);\n",
              "  }\n",
              "\n",
              "  .colab-df-quickchart-complete:disabled,\n",
              "  .colab-df-quickchart-complete:disabled:hover {\n",
              "    background-color: var(--disabled-bg-color);\n",
              "    fill: var(--disabled-fill-color);\n",
              "    box-shadow: none;\n",
              "  }\n",
              "\n",
              "  .colab-df-spinner {\n",
              "    border: 2px solid var(--fill-color);\n",
              "    border-color: transparent;\n",
              "    border-bottom-color: var(--fill-color);\n",
              "    animation:\n",
              "      spin 1s steps(1) infinite;\n",
              "  }\n",
              "\n",
              "  @keyframes spin {\n",
              "    0% {\n",
              "      border-color: transparent;\n",
              "      border-bottom-color: var(--fill-color);\n",
              "      border-left-color: var(--fill-color);\n",
              "    }\n",
              "    20% {\n",
              "      border-color: transparent;\n",
              "      border-left-color: var(--fill-color);\n",
              "      border-top-color: var(--fill-color);\n",
              "    }\n",
              "    30% {\n",
              "      border-color: transparent;\n",
              "      border-left-color: var(--fill-color);\n",
              "      border-top-color: var(--fill-color);\n",
              "      border-right-color: var(--fill-color);\n",
              "    }\n",
              "    40% {\n",
              "      border-color: transparent;\n",
              "      border-right-color: var(--fill-color);\n",
              "      border-top-color: var(--fill-color);\n",
              "    }\n",
              "    60% {\n",
              "      border-color: transparent;\n",
              "      border-right-color: var(--fill-color);\n",
              "    }\n",
              "    80% {\n",
              "      border-color: transparent;\n",
              "      border-right-color: var(--fill-color);\n",
              "      border-bottom-color: var(--fill-color);\n",
              "    }\n",
              "    90% {\n",
              "      border-color: transparent;\n",
              "      border-bottom-color: var(--fill-color);\n",
              "    }\n",
              "  }\n",
              "</style>\n",
              "\n",
              "  <script>\n",
              "    async function quickchart(key) {\n",
              "      const quickchartButtonEl =\n",
              "        document.querySelector('#' + key + ' button');\n",
              "      quickchartButtonEl.disabled = true;  // To prevent multiple clicks.\n",
              "      quickchartButtonEl.classList.add('colab-df-spinner');\n",
              "      try {\n",
              "        const charts = await google.colab.kernel.invokeFunction(\n",
              "            'suggestCharts', [key], {});\n",
              "      } catch (error) {\n",
              "        console.error('Error during call to suggestCharts:', error);\n",
              "      }\n",
              "      quickchartButtonEl.classList.remove('colab-df-spinner');\n",
              "      quickchartButtonEl.classList.add('colab-df-quickchart-complete');\n",
              "    }\n",
              "    (() => {\n",
              "      let quickchartButtonEl =\n",
              "        document.querySelector('#df-b65677e6-b96c-4e2b-8773-d4b03c1305ae button');\n",
              "      quickchartButtonEl.style.display =\n",
              "        google.colab.kernel.accessAllowed ? 'block' : 'none';\n",
              "    })();\n",
              "  </script>\n",
              "</div>\n",
              "\n",
              "    </div>\n",
              "  </div>\n"
            ],
            "application/vnd.google.colaboratory.intrinsic+json": {
              "type": "dataframe",
              "variable_name": "y_train_df",
              "summary": "{\n  \"name\": \"y_train_df\",\n  \"rows\": 16512,\n  \"fields\": [\n    {\n      \"column\": \"MedHouseVal\",\n      \"properties\": {\n        \"dtype\": \"number\",\n        \"std\": 1.1562262644809127,\n        \"min\": 0.14999,\n        \"max\": 5.00001,\n        \"num_unique_values\": 3675,\n        \"samples\": [\n          0.718,\n          1.582,\n          3.461\n        ],\n        \"semantic_type\": \"\",\n        \"description\": \"\"\n      }\n    }\n  ]\n}"
            }
          },
          "metadata": {},
          "execution_count": 16
        }
      ]
    },
    {
      "cell_type": "markdown",
      "source": [
        "### **Paso 3: Definir la arquitectura de la red neuronal**"
      ],
      "metadata": {
        "id": "FMAOUgpiWD4W"
      }
    },
    {
      "cell_type": "code",
      "source": [
        "# Crear el modelo secuencial para regresión\n",
        "model = Sequential([\n",
        "    Input(shape=(X_train.shape[1],)),   # Capa de entrada con la cantidad de features\n",
        "    Dense(128, activation='relu'),       # Capa oculta con 64 unidades y ReLU\n",
        "    Dropout(0.2),                       # Dropout para prevenir overfitting\n",
        "    Dense(64, activation='relu'),       # Otra capa oculta con 32 unidades y ReLU\n",
        "    Dense(1)                            # Capa de salida para regresión (una sola salida)\n",
        "])\n",
        "\n",
        "# Compilar el modelo\n",
        "model.compile(optimizer=Adam(learning_rate=0.002),  # El valor predeterminado del learning rate en Adam es 0.001.\n",
        "              loss='mse',                           # Error cuadrático medio para regresión\n",
        "              metrics=['mae'])                      # Error absoluto medio como métrica adicional\n",
        "\n",
        "# Mostrar el resumen del modelo\n",
        "model.summary()\n",
        "\n"
      ],
      "metadata": {
        "colab": {
          "base_uri": "https://localhost:8080/",
          "height": 267
        },
        "id": "wKLMemqtWEro",
        "outputId": "9e850598-0375-4a4a-ae4e-cf064b4f12e6"
      },
      "execution_count": 17,
      "outputs": [
        {
          "output_type": "display_data",
          "data": {
            "text/plain": [
              "\u001b[1mModel: \"sequential_1\"\u001b[0m\n"
            ],
            "text/html": [
              "<pre style=\"white-space:pre;overflow-x:auto;line-height:normal;font-family:Menlo,'DejaVu Sans Mono',consolas,'Courier New',monospace\"><span style=\"font-weight: bold\">Model: \"sequential_1\"</span>\n",
              "</pre>\n"
            ]
          },
          "metadata": {}
        },
        {
          "output_type": "display_data",
          "data": {
            "text/plain": [
              "┏━━━━━━━━━━━━━━━━━━━━━━━━━━━━━━━━━━━━━━┳━━━━━━━━━━━━━━━━━━━━━━━━━━━━━┳━━━━━━━━━━━━━━━━━┓\n",
              "┃\u001b[1m \u001b[0m\u001b[1mLayer (type)                        \u001b[0m\u001b[1m \u001b[0m┃\u001b[1m \u001b[0m\u001b[1mOutput Shape               \u001b[0m\u001b[1m \u001b[0m┃\u001b[1m \u001b[0m\u001b[1m        Param #\u001b[0m\u001b[1m \u001b[0m┃\n",
              "┡━━━━━━━━━━━━━━━━━━━━━━━━━━━━━━━━━━━━━━╇━━━━━━━━━━━━━━━━━━━━━━━━━━━━━╇━━━━━━━━━━━━━━━━━┩\n",
              "│ dense_3 (\u001b[38;5;33mDense\u001b[0m)                      │ (\u001b[38;5;45mNone\u001b[0m, \u001b[38;5;34m128\u001b[0m)                 │           \u001b[38;5;34m1,152\u001b[0m │\n",
              "├──────────────────────────────────────┼─────────────────────────────┼─────────────────┤\n",
              "│ dropout_1 (\u001b[38;5;33mDropout\u001b[0m)                  │ (\u001b[38;5;45mNone\u001b[0m, \u001b[38;5;34m128\u001b[0m)                 │               \u001b[38;5;34m0\u001b[0m │\n",
              "├──────────────────────────────────────┼─────────────────────────────┼─────────────────┤\n",
              "│ dense_4 (\u001b[38;5;33mDense\u001b[0m)                      │ (\u001b[38;5;45mNone\u001b[0m, \u001b[38;5;34m64\u001b[0m)                  │           \u001b[38;5;34m8,256\u001b[0m │\n",
              "├──────────────────────────────────────┼─────────────────────────────┼─────────────────┤\n",
              "│ dense_5 (\u001b[38;5;33mDense\u001b[0m)                      │ (\u001b[38;5;45mNone\u001b[0m, \u001b[38;5;34m1\u001b[0m)                   │              \u001b[38;5;34m65\u001b[0m │\n",
              "└──────────────────────────────────────┴─────────────────────────────┴─────────────────┘\n"
            ],
            "text/html": [
              "<pre style=\"white-space:pre;overflow-x:auto;line-height:normal;font-family:Menlo,'DejaVu Sans Mono',consolas,'Courier New',monospace\">┏━━━━━━━━━━━━━━━━━━━━━━━━━━━━━━━━━━━━━━┳━━━━━━━━━━━━━━━━━━━━━━━━━━━━━┳━━━━━━━━━━━━━━━━━┓\n",
              "┃<span style=\"font-weight: bold\"> Layer (type)                         </span>┃<span style=\"font-weight: bold\"> Output Shape                </span>┃<span style=\"font-weight: bold\">         Param # </span>┃\n",
              "┡━━━━━━━━━━━━━━━━━━━━━━━━━━━━━━━━━━━━━━╇━━━━━━━━━━━━━━━━━━━━━━━━━━━━━╇━━━━━━━━━━━━━━━━━┩\n",
              "│ dense_3 (<span style=\"color: #0087ff; text-decoration-color: #0087ff\">Dense</span>)                      │ (<span style=\"color: #00d7ff; text-decoration-color: #00d7ff\">None</span>, <span style=\"color: #00af00; text-decoration-color: #00af00\">128</span>)                 │           <span style=\"color: #00af00; text-decoration-color: #00af00\">1,152</span> │\n",
              "├──────────────────────────────────────┼─────────────────────────────┼─────────────────┤\n",
              "│ dropout_1 (<span style=\"color: #0087ff; text-decoration-color: #0087ff\">Dropout</span>)                  │ (<span style=\"color: #00d7ff; text-decoration-color: #00d7ff\">None</span>, <span style=\"color: #00af00; text-decoration-color: #00af00\">128</span>)                 │               <span style=\"color: #00af00; text-decoration-color: #00af00\">0</span> │\n",
              "├──────────────────────────────────────┼─────────────────────────────┼─────────────────┤\n",
              "│ dense_4 (<span style=\"color: #0087ff; text-decoration-color: #0087ff\">Dense</span>)                      │ (<span style=\"color: #00d7ff; text-decoration-color: #00d7ff\">None</span>, <span style=\"color: #00af00; text-decoration-color: #00af00\">64</span>)                  │           <span style=\"color: #00af00; text-decoration-color: #00af00\">8,256</span> │\n",
              "├──────────────────────────────────────┼─────────────────────────────┼─────────────────┤\n",
              "│ dense_5 (<span style=\"color: #0087ff; text-decoration-color: #0087ff\">Dense</span>)                      │ (<span style=\"color: #00d7ff; text-decoration-color: #00d7ff\">None</span>, <span style=\"color: #00af00; text-decoration-color: #00af00\">1</span>)                   │              <span style=\"color: #00af00; text-decoration-color: #00af00\">65</span> │\n",
              "└──────────────────────────────────────┴─────────────────────────────┴─────────────────┘\n",
              "</pre>\n"
            ]
          },
          "metadata": {}
        },
        {
          "output_type": "display_data",
          "data": {
            "text/plain": [
              "\u001b[1m Total params: \u001b[0m\u001b[38;5;34m9,473\u001b[0m (37.00 KB)\n"
            ],
            "text/html": [
              "<pre style=\"white-space:pre;overflow-x:auto;line-height:normal;font-family:Menlo,'DejaVu Sans Mono',consolas,'Courier New',monospace\"><span style=\"font-weight: bold\"> Total params: </span><span style=\"color: #00af00; text-decoration-color: #00af00\">9,473</span> (37.00 KB)\n",
              "</pre>\n"
            ]
          },
          "metadata": {}
        },
        {
          "output_type": "display_data",
          "data": {
            "text/plain": [
              "\u001b[1m Trainable params: \u001b[0m\u001b[38;5;34m9,473\u001b[0m (37.00 KB)\n"
            ],
            "text/html": [
              "<pre style=\"white-space:pre;overflow-x:auto;line-height:normal;font-family:Menlo,'DejaVu Sans Mono',consolas,'Courier New',monospace\"><span style=\"font-weight: bold\"> Trainable params: </span><span style=\"color: #00af00; text-decoration-color: #00af00\">9,473</span> (37.00 KB)\n",
              "</pre>\n"
            ]
          },
          "metadata": {}
        },
        {
          "output_type": "display_data",
          "data": {
            "text/plain": [
              "\u001b[1m Non-trainable params: \u001b[0m\u001b[38;5;34m0\u001b[0m (0.00 B)\n"
            ],
            "text/html": [
              "<pre style=\"white-space:pre;overflow-x:auto;line-height:normal;font-family:Menlo,'DejaVu Sans Mono',consolas,'Courier New',monospace\"><span style=\"font-weight: bold\"> Non-trainable params: </span><span style=\"color: #00af00; text-decoration-color: #00af00\">0</span> (0.00 B)\n",
              "</pre>\n"
            ]
          },
          "metadata": {}
        }
      ]
    },
    {
      "cell_type": "code",
      "source": [
        "X_train.shape[1]"
      ],
      "metadata": {
        "colab": {
          "base_uri": "https://localhost:8080/"
        },
        "id": "dg0_Ga4WZmcB",
        "outputId": "39657e66-efbe-4388-b045-877dd5e7d5a4"
      },
      "execution_count": 18,
      "outputs": [
        {
          "output_type": "execute_result",
          "data": {
            "text/plain": [
              "8"
            ]
          },
          "metadata": {},
          "execution_count": 18
        }
      ]
    },
    {
      "cell_type": "markdown",
      "source": [
        "\n",
        "### **Paso 4: Entrenar el modelo**"
      ],
      "metadata": {
        "id": "V-necfB9WYWt"
      }
    },
    {
      "cell_type": "code",
      "source": [
        "\n",
        "\n",
        "# Iniciar un temporizador para medir el tiempo de entrenamiento\n",
        "start_time = time.time()\n",
        "\n",
        "# Entrenar el modelo\n",
        "history = model.fit(X_train, y_train,\n",
        "                    validation_split=0.2,\n",
        "                    epochs=100,  # Entrenamos durante n épocas para observar los resultados\n",
        "                    batch_size=32,\n",
        "                    verbose=1)\n",
        "\n",
        "# Calcular el tiempo total de entrenamiento\n",
        "training_time = time.time() - start_time\n",
        "print(f\"Tiempo de entrenamiento: {training_time:.2f} segundos\")\n"
      ],
      "metadata": {
        "colab": {
          "base_uri": "https://localhost:8080/"
        },
        "id": "7CVp5ArjWdRu",
        "outputId": "1be821b4-7be6-4b4d-ee17-f5bc4281f530"
      },
      "execution_count": 19,
      "outputs": [
        {
          "output_type": "stream",
          "name": "stdout",
          "text": [
            "Epoch 1/100\n",
            "\u001b[1m413/413\u001b[0m \u001b[32m━━━━━━━━━━━━━━━━━━━━\u001b[0m\u001b[37m\u001b[0m \u001b[1m2s\u001b[0m 2ms/step - loss: 1.0318 - mae: 0.6978 - val_loss: 0.4706 - val_mae: 0.4952\n",
            "Epoch 2/100\n",
            "\u001b[1m413/413\u001b[0m \u001b[32m━━━━━━━━━━━━━━━━━━━━\u001b[0m\u001b[37m\u001b[0m \u001b[1m1s\u001b[0m 2ms/step - loss: 0.4345 - mae: 0.4705 - val_loss: 0.4494 - val_mae: 0.4436\n",
            "Epoch 3/100\n",
            "\u001b[1m413/413\u001b[0m \u001b[32m━━━━━━━━━━━━━━━━━━━━\u001b[0m\u001b[37m\u001b[0m \u001b[1m1s\u001b[0m 2ms/step - loss: 0.4014 - mae: 0.4467 - val_loss: 0.3555 - val_mae: 0.4127\n",
            "Epoch 4/100\n",
            "\u001b[1m413/413\u001b[0m \u001b[32m━━━━━━━━━━━━━━━━━━━━\u001b[0m\u001b[37m\u001b[0m \u001b[1m2s\u001b[0m 3ms/step - loss: 0.3622 - mae: 0.4262 - val_loss: 0.3421 - val_mae: 0.4098\n",
            "Epoch 5/100\n",
            "\u001b[1m413/413\u001b[0m \u001b[32m━━━━━━━━━━━━━━━━━━━━\u001b[0m\u001b[37m\u001b[0m \u001b[1m1s\u001b[0m 3ms/step - loss: 0.3365 - mae: 0.4073 - val_loss: 0.3404 - val_mae: 0.3931\n",
            "Epoch 6/100\n",
            "\u001b[1m413/413\u001b[0m \u001b[32m━━━━━━━━━━━━━━━━━━━━\u001b[0m\u001b[37m\u001b[0m \u001b[1m2s\u001b[0m 2ms/step - loss: 0.3334 - mae: 0.4024 - val_loss: 0.3486 - val_mae: 0.3963\n",
            "Epoch 7/100\n",
            "\u001b[1m413/413\u001b[0m \u001b[32m━━━━━━━━━━━━━━━━━━━━\u001b[0m\u001b[37m\u001b[0m \u001b[1m1s\u001b[0m 2ms/step - loss: 0.3303 - mae: 0.3968 - val_loss: 0.3383 - val_mae: 0.4093\n",
            "Epoch 8/100\n",
            "\u001b[1m413/413\u001b[0m \u001b[32m━━━━━━━━━━━━━━━━━━━━\u001b[0m\u001b[37m\u001b[0m \u001b[1m1s\u001b[0m 2ms/step - loss: 0.3179 - mae: 0.3943 - val_loss: 0.3197 - val_mae: 0.3790\n",
            "Epoch 9/100\n",
            "\u001b[1m413/413\u001b[0m \u001b[32m━━━━━━━━━━━━━━━━━━━━\u001b[0m\u001b[37m\u001b[0m \u001b[1m1s\u001b[0m 2ms/step - loss: 0.3231 - mae: 0.3887 - val_loss: 0.3164 - val_mae: 0.3836\n",
            "Epoch 10/100\n",
            "\u001b[1m413/413\u001b[0m \u001b[32m━━━━━━━━━━━━━━━━━━━━\u001b[0m\u001b[37m\u001b[0m \u001b[1m1s\u001b[0m 2ms/step - loss: 0.3261 - mae: 0.3947 - val_loss: 0.3172 - val_mae: 0.3919\n",
            "Epoch 11/100\n",
            "\u001b[1m413/413\u001b[0m \u001b[32m━━━━━━━━━━━━━━━━━━━━\u001b[0m\u001b[37m\u001b[0m \u001b[1m1s\u001b[0m 2ms/step - loss: 0.3020 - mae: 0.3816 - val_loss: 0.3163 - val_mae: 0.3813\n",
            "Epoch 12/100\n",
            "\u001b[1m413/413\u001b[0m \u001b[32m━━━━━━━━━━━━━━━━━━━━\u001b[0m\u001b[37m\u001b[0m \u001b[1m1s\u001b[0m 2ms/step - loss: 0.3027 - mae: 0.3787 - val_loss: 0.3135 - val_mae: 0.4004\n",
            "Epoch 13/100\n",
            "\u001b[1m413/413\u001b[0m \u001b[32m━━━━━━━━━━━━━━━━━━━━\u001b[0m\u001b[37m\u001b[0m \u001b[1m1s\u001b[0m 2ms/step - loss: 0.3055 - mae: 0.3802 - val_loss: 0.3111 - val_mae: 0.3726\n",
            "Epoch 14/100\n",
            "\u001b[1m413/413\u001b[0m \u001b[32m━━━━━━━━━━━━━━━━━━━━\u001b[0m\u001b[37m\u001b[0m \u001b[1m2s\u001b[0m 3ms/step - loss: 0.2920 - mae: 0.3731 - val_loss: 0.3148 - val_mae: 0.3720\n",
            "Epoch 15/100\n",
            "\u001b[1m413/413\u001b[0m \u001b[32m━━━━━━━━━━━━━━━━━━━━\u001b[0m\u001b[37m\u001b[0m \u001b[1m2s\u001b[0m 2ms/step - loss: 0.2915 - mae: 0.3672 - val_loss: 0.3140 - val_mae: 0.3698\n",
            "Epoch 16/100\n",
            "\u001b[1m413/413\u001b[0m \u001b[32m━━━━━━━━━━━━━━━━━━━━\u001b[0m\u001b[37m\u001b[0m \u001b[1m1s\u001b[0m 2ms/step - loss: 0.2963 - mae: 0.3736 - val_loss: 0.3044 - val_mae: 0.3818\n",
            "Epoch 17/100\n",
            "\u001b[1m413/413\u001b[0m \u001b[32m━━━━━━━━━━━━━━━━━━━━\u001b[0m\u001b[37m\u001b[0m \u001b[1m1s\u001b[0m 2ms/step - loss: 0.2808 - mae: 0.3639 - val_loss: 0.3024 - val_mae: 0.3719\n",
            "Epoch 18/100\n",
            "\u001b[1m413/413\u001b[0m \u001b[32m━━━━━━━━━━━━━━━━━━━━\u001b[0m\u001b[37m\u001b[0m \u001b[1m1s\u001b[0m 2ms/step - loss: 0.2858 - mae: 0.3689 - val_loss: 0.3247 - val_mae: 0.3949\n",
            "Epoch 19/100\n",
            "\u001b[1m413/413\u001b[0m \u001b[32m━━━━━━━━━━━━━━━━━━━━\u001b[0m\u001b[37m\u001b[0m \u001b[1m1s\u001b[0m 2ms/step - loss: 0.2713 - mae: 0.3581 - val_loss: 0.2939 - val_mae: 0.3639\n",
            "Epoch 20/100\n",
            "\u001b[1m413/413\u001b[0m \u001b[32m━━━━━━━━━━━━━━━━━━━━\u001b[0m\u001b[37m\u001b[0m \u001b[1m1s\u001b[0m 2ms/step - loss: 0.2769 - mae: 0.3600 - val_loss: 0.2947 - val_mae: 0.3706\n",
            "Epoch 21/100\n",
            "\u001b[1m413/413\u001b[0m \u001b[32m━━━━━━━━━━━━━━━━━━━━\u001b[0m\u001b[37m\u001b[0m \u001b[1m1s\u001b[0m 2ms/step - loss: 0.2688 - mae: 0.3553 - val_loss: 0.3020 - val_mae: 0.3860\n",
            "Epoch 22/100\n",
            "\u001b[1m413/413\u001b[0m \u001b[32m━━━━━━━━━━━━━━━━━━━━\u001b[0m\u001b[37m\u001b[0m \u001b[1m1s\u001b[0m 2ms/step - loss: 0.2641 - mae: 0.3544 - val_loss: 0.3075 - val_mae: 0.3772\n",
            "Epoch 23/100\n",
            "\u001b[1m413/413\u001b[0m \u001b[32m━━━━━━━━━━━━━━━━━━━━\u001b[0m\u001b[37m\u001b[0m \u001b[1m2s\u001b[0m 3ms/step - loss: 0.2746 - mae: 0.3570 - val_loss: 0.2930 - val_mae: 0.3706\n",
            "Epoch 24/100\n",
            "\u001b[1m413/413\u001b[0m \u001b[32m━━━━━━━━━━━━━━━━━━━━\u001b[0m\u001b[37m\u001b[0m \u001b[1m2s\u001b[0m 3ms/step - loss: 0.2761 - mae: 0.3572 - val_loss: 0.3011 - val_mae: 0.3692\n",
            "Epoch 25/100\n",
            "\u001b[1m413/413\u001b[0m \u001b[32m━━━━━━━━━━━━━━━━━━━━\u001b[0m\u001b[37m\u001b[0m \u001b[1m1s\u001b[0m 3ms/step - loss: 0.2715 - mae: 0.3583 - val_loss: 0.2914 - val_mae: 0.3589\n",
            "Epoch 26/100\n",
            "\u001b[1m413/413\u001b[0m \u001b[32m━━━━━━━━━━━━━━━━━━━━\u001b[0m\u001b[37m\u001b[0m \u001b[1m2s\u001b[0m 2ms/step - loss: 0.2587 - mae: 0.3524 - val_loss: 0.3477 - val_mae: 0.3637\n",
            "Epoch 27/100\n",
            "\u001b[1m413/413\u001b[0m \u001b[32m━━━━━━━━━━━━━━━━━━━━\u001b[0m\u001b[37m\u001b[0m \u001b[1m1s\u001b[0m 2ms/step - loss: 0.2917 - mae: 0.3531 - val_loss: 0.2962 - val_mae: 0.3717\n",
            "Epoch 28/100\n",
            "\u001b[1m413/413\u001b[0m \u001b[32m━━━━━━━━━━━━━━━━━━━━\u001b[0m\u001b[37m\u001b[0m \u001b[1m1s\u001b[0m 2ms/step - loss: 0.2803 - mae: 0.3578 - val_loss: 0.2913 - val_mae: 0.3633\n",
            "Epoch 29/100\n",
            "\u001b[1m413/413\u001b[0m \u001b[32m━━━━━━━━━━━━━━━━━━━━\u001b[0m\u001b[37m\u001b[0m \u001b[1m1s\u001b[0m 2ms/step - loss: 0.2722 - mae: 0.3558 - val_loss: 0.2951 - val_mae: 0.3586\n",
            "Epoch 30/100\n",
            "\u001b[1m413/413\u001b[0m \u001b[32m━━━━━━━━━━━━━━━━━━━━\u001b[0m\u001b[37m\u001b[0m \u001b[1m1s\u001b[0m 2ms/step - loss: 0.2789 - mae: 0.3590 - val_loss: 0.2941 - val_mae: 0.3827\n",
            "Epoch 31/100\n",
            "\u001b[1m413/413\u001b[0m \u001b[32m━━━━━━━━━━━━━━━━━━━━\u001b[0m\u001b[37m\u001b[0m \u001b[1m1s\u001b[0m 2ms/step - loss: 0.2622 - mae: 0.3486 - val_loss: 0.2915 - val_mae: 0.3716\n",
            "Epoch 32/100\n",
            "\u001b[1m413/413\u001b[0m \u001b[32m━━━━━━━━━━━━━━━━━━━━\u001b[0m\u001b[37m\u001b[0m \u001b[1m1s\u001b[0m 2ms/step - loss: 0.2652 - mae: 0.3522 - val_loss: 0.2852 - val_mae: 0.3703\n",
            "Epoch 33/100\n",
            "\u001b[1m413/413\u001b[0m \u001b[32m━━━━━━━━━━━━━━━━━━━━\u001b[0m\u001b[37m\u001b[0m \u001b[1m1s\u001b[0m 2ms/step - loss: 0.2502 - mae: 0.3470 - val_loss: 0.2850 - val_mae: 0.3602\n",
            "Epoch 34/100\n",
            "\u001b[1m413/413\u001b[0m \u001b[32m━━━━━━━━━━━━━━━━━━━━\u001b[0m\u001b[37m\u001b[0m \u001b[1m2s\u001b[0m 3ms/step - loss: 0.2567 - mae: 0.3459 - val_loss: 0.2957 - val_mae: 0.3707\n",
            "Epoch 35/100\n",
            "\u001b[1m413/413\u001b[0m \u001b[32m━━━━━━━━━━━━━━━━━━━━\u001b[0m\u001b[37m\u001b[0m \u001b[1m1s\u001b[0m 3ms/step - loss: 0.2542 - mae: 0.3435 - val_loss: 0.2826 - val_mae: 0.3552\n",
            "Epoch 36/100\n",
            "\u001b[1m413/413\u001b[0m \u001b[32m━━━━━━━━━━━━━━━━━━━━\u001b[0m\u001b[37m\u001b[0m \u001b[1m2s\u001b[0m 2ms/step - loss: 0.2564 - mae: 0.3457 - val_loss: 0.2818 - val_mae: 0.3612\n",
            "Epoch 37/100\n",
            "\u001b[1m413/413\u001b[0m \u001b[32m━━━━━━━━━━━━━━━━━━━━\u001b[0m\u001b[37m\u001b[0m \u001b[1m1s\u001b[0m 2ms/step - loss: 0.2620 - mae: 0.3507 - val_loss: 0.2972 - val_mae: 0.3810\n",
            "Epoch 38/100\n",
            "\u001b[1m413/413\u001b[0m \u001b[32m━━━━━━━━━━━━━━━━━━━━\u001b[0m\u001b[37m\u001b[0m \u001b[1m1s\u001b[0m 2ms/step - loss: 0.2610 - mae: 0.3474 - val_loss: 0.2851 - val_mae: 0.3586\n",
            "Epoch 39/100\n",
            "\u001b[1m413/413\u001b[0m \u001b[32m━━━━━━━━━━━━━━━━━━━━\u001b[0m\u001b[37m\u001b[0m \u001b[1m1s\u001b[0m 2ms/step - loss: 0.2516 - mae: 0.3400 - val_loss: 0.2897 - val_mae: 0.3795\n",
            "Epoch 40/100\n",
            "\u001b[1m413/413\u001b[0m \u001b[32m━━━━━━━━━━━━━━━━━━━━\u001b[0m\u001b[37m\u001b[0m \u001b[1m1s\u001b[0m 2ms/step - loss: 0.2503 - mae: 0.3460 - val_loss: 0.2888 - val_mae: 0.3657\n",
            "Epoch 41/100\n",
            "\u001b[1m413/413\u001b[0m \u001b[32m━━━━━━━━━━━━━━━━━━━━\u001b[0m\u001b[37m\u001b[0m \u001b[1m2s\u001b[0m 3ms/step - loss: 0.2474 - mae: 0.3408 - val_loss: 0.3169 - val_mae: 0.3666\n",
            "Epoch 42/100\n",
            "\u001b[1m413/413\u001b[0m \u001b[32m━━━━━━━━━━━━━━━━━━━━\u001b[0m\u001b[37m\u001b[0m \u001b[1m2s\u001b[0m 2ms/step - loss: 0.2613 - mae: 0.3469 - val_loss: 0.2880 - val_mae: 0.3578\n",
            "Epoch 43/100\n",
            "\u001b[1m413/413\u001b[0m \u001b[32m━━━━━━━━━━━━━━━━━━━━\u001b[0m\u001b[37m\u001b[0m \u001b[1m2s\u001b[0m 3ms/step - loss: 0.2456 - mae: 0.3394 - val_loss: 0.2741 - val_mae: 0.3566\n",
            "Epoch 44/100\n",
            "\u001b[1m413/413\u001b[0m \u001b[32m━━━━━━━━━━━━━━━━━━━━\u001b[0m\u001b[37m\u001b[0m \u001b[1m2s\u001b[0m 2ms/step - loss: 0.2536 - mae: 0.3437 - val_loss: 0.2823 - val_mae: 0.3579\n",
            "Epoch 45/100\n",
            "\u001b[1m413/413\u001b[0m \u001b[32m━━━━━━━━━━━━━━━━━━━━\u001b[0m\u001b[37m\u001b[0m \u001b[1m1s\u001b[0m 2ms/step - loss: 0.2638 - mae: 0.3496 - val_loss: 0.2900 - val_mae: 0.3672\n",
            "Epoch 46/100\n",
            "\u001b[1m413/413\u001b[0m \u001b[32m━━━━━━━━━━━━━━━━━━━━\u001b[0m\u001b[37m\u001b[0m \u001b[1m1s\u001b[0m 2ms/step - loss: 0.2633 - mae: 0.3535 - val_loss: 0.2825 - val_mae: 0.3615\n",
            "Epoch 47/100\n",
            "\u001b[1m413/413\u001b[0m \u001b[32m━━━━━━━━━━━━━━━━━━━━\u001b[0m\u001b[37m\u001b[0m \u001b[1m1s\u001b[0m 2ms/step - loss: 0.2473 - mae: 0.3387 - val_loss: 0.2757 - val_mae: 0.3526\n",
            "Epoch 48/100\n",
            "\u001b[1m413/413\u001b[0m \u001b[32m━━━━━━━━━━━━━━━━━━━━\u001b[0m\u001b[37m\u001b[0m \u001b[1m1s\u001b[0m 2ms/step - loss: 0.2480 - mae: 0.3417 - val_loss: 0.2728 - val_mae: 0.3596\n",
            "Epoch 49/100\n",
            "\u001b[1m413/413\u001b[0m \u001b[32m━━━━━━━━━━━━━━━━━━━━\u001b[0m\u001b[37m\u001b[0m \u001b[1m1s\u001b[0m 2ms/step - loss: 0.2443 - mae: 0.3406 - val_loss: 0.2762 - val_mae: 0.3491\n",
            "Epoch 50/100\n",
            "\u001b[1m413/413\u001b[0m \u001b[32m━━━━━━━━━━━━━━━━━━━━\u001b[0m\u001b[37m\u001b[0m \u001b[1m1s\u001b[0m 2ms/step - loss: 0.2460 - mae: 0.3415 - val_loss: 0.2743 - val_mae: 0.3665\n",
            "Epoch 51/100\n",
            "\u001b[1m413/413\u001b[0m \u001b[32m━━━━━━━━━━━━━━━━━━━━\u001b[0m\u001b[37m\u001b[0m \u001b[1m1s\u001b[0m 2ms/step - loss: 0.2506 - mae: 0.3442 - val_loss: 0.2767 - val_mae: 0.3485\n",
            "Epoch 52/100\n",
            "\u001b[1m413/413\u001b[0m \u001b[32m━━━━━━━━━━━━━━━━━━━━\u001b[0m\u001b[37m\u001b[0m \u001b[1m1s\u001b[0m 2ms/step - loss: 0.2354 - mae: 0.3316 - val_loss: 0.2784 - val_mae: 0.3526\n",
            "Epoch 53/100\n",
            "\u001b[1m413/413\u001b[0m \u001b[32m━━━━━━━━━━━━━━━━━━━━\u001b[0m\u001b[37m\u001b[0m \u001b[1m1s\u001b[0m 3ms/step - loss: 0.2441 - mae: 0.3413 - val_loss: 0.2835 - val_mae: 0.3667\n",
            "Epoch 54/100\n",
            "\u001b[1m413/413\u001b[0m \u001b[32m━━━━━━━━━━━━━━━━━━━━\u001b[0m\u001b[37m\u001b[0m \u001b[1m1s\u001b[0m 3ms/step - loss: 0.2322 - mae: 0.3325 - val_loss: 0.2829 - val_mae: 0.3732\n",
            "Epoch 55/100\n",
            "\u001b[1m413/413\u001b[0m \u001b[32m━━━━━━━━━━━━━━━━━━━━\u001b[0m\u001b[37m\u001b[0m \u001b[1m1s\u001b[0m 2ms/step - loss: 0.2318 - mae: 0.3355 - val_loss: 0.2741 - val_mae: 0.3582\n",
            "Epoch 56/100\n",
            "\u001b[1m413/413\u001b[0m \u001b[32m━━━━━━━━━━━━━━━━━━━━\u001b[0m\u001b[37m\u001b[0m \u001b[1m1s\u001b[0m 2ms/step - loss: 0.2396 - mae: 0.3362 - val_loss: 0.2730 - val_mae: 0.3622\n",
            "Epoch 57/100\n",
            "\u001b[1m413/413\u001b[0m \u001b[32m━━━━━━━━━━━━━━━━━━━━\u001b[0m\u001b[37m\u001b[0m \u001b[1m1s\u001b[0m 2ms/step - loss: 0.2380 - mae: 0.3374 - val_loss: 0.2784 - val_mae: 0.3531\n",
            "Epoch 58/100\n",
            "\u001b[1m413/413\u001b[0m \u001b[32m━━━━━━━━━━━━━━━━━━━━\u001b[0m\u001b[37m\u001b[0m \u001b[1m1s\u001b[0m 2ms/step - loss: 0.2394 - mae: 0.3402 - val_loss: 0.2732 - val_mae: 0.3576\n",
            "Epoch 59/100\n",
            "\u001b[1m413/413\u001b[0m \u001b[32m━━━━━━━━━━━━━━━━━━━━\u001b[0m\u001b[37m\u001b[0m \u001b[1m1s\u001b[0m 2ms/step - loss: 0.2377 - mae: 0.3352 - val_loss: 0.2924 - val_mae: 0.3655\n",
            "Epoch 60/100\n",
            "\u001b[1m413/413\u001b[0m \u001b[32m━━━━━━━━━━━━━━━━━━━━\u001b[0m\u001b[37m\u001b[0m \u001b[1m1s\u001b[0m 2ms/step - loss: 0.2366 - mae: 0.3339 - val_loss: 0.2801 - val_mae: 0.3650\n",
            "Epoch 61/100\n",
            "\u001b[1m413/413\u001b[0m \u001b[32m━━━━━━━━━━━━━━━━━━━━\u001b[0m\u001b[37m\u001b[0m \u001b[1m1s\u001b[0m 2ms/step - loss: 0.2424 - mae: 0.3378 - val_loss: 0.2710 - val_mae: 0.3572\n",
            "Epoch 62/100\n",
            "\u001b[1m413/413\u001b[0m \u001b[32m━━━━━━━━━━━━━━━━━━━━\u001b[0m\u001b[37m\u001b[0m \u001b[1m1s\u001b[0m 2ms/step - loss: 0.2253 - mae: 0.3310 - val_loss: 0.2753 - val_mae: 0.3497\n",
            "Epoch 63/100\n",
            "\u001b[1m413/413\u001b[0m \u001b[32m━━━━━━━━━━━━━━━━━━━━\u001b[0m\u001b[37m\u001b[0m \u001b[1m1s\u001b[0m 2ms/step - loss: 0.2327 - mae: 0.3323 - val_loss: 0.2776 - val_mae: 0.3548\n",
            "Epoch 64/100\n",
            "\u001b[1m413/413\u001b[0m \u001b[32m━━━━━━━━━━━━━━━━━━━━\u001b[0m\u001b[37m\u001b[0m \u001b[1m1s\u001b[0m 3ms/step - loss: 0.2317 - mae: 0.3342 - val_loss: 0.2813 - val_mae: 0.3610\n",
            "Epoch 65/100\n",
            "\u001b[1m413/413\u001b[0m \u001b[32m━━━━━━━━━━━━━━━━━━━━\u001b[0m\u001b[37m\u001b[0m \u001b[1m1s\u001b[0m 3ms/step - loss: 0.2398 - mae: 0.3356 - val_loss: 0.2800 - val_mae: 0.3545\n",
            "Epoch 66/100\n",
            "\u001b[1m413/413\u001b[0m \u001b[32m━━━━━━━━━━━━━━━━━━━━\u001b[0m\u001b[37m\u001b[0m \u001b[1m1s\u001b[0m 3ms/step - loss: 0.2358 - mae: 0.3360 - val_loss: 0.2774 - val_mae: 0.3609\n",
            "Epoch 67/100\n",
            "\u001b[1m413/413\u001b[0m \u001b[32m━━━━━━━━━━━━━━━━━━━━\u001b[0m\u001b[37m\u001b[0m \u001b[1m2s\u001b[0m 2ms/step - loss: 0.2274 - mae: 0.3291 - val_loss: 0.2854 - val_mae: 0.3625\n",
            "Epoch 68/100\n",
            "\u001b[1m413/413\u001b[0m \u001b[32m━━━━━━━━━━━━━━━━━━━━\u001b[0m\u001b[37m\u001b[0m \u001b[1m1s\u001b[0m 2ms/step - loss: 0.2371 - mae: 0.3351 - val_loss: 0.2836 - val_mae: 0.3603\n",
            "Epoch 69/100\n",
            "\u001b[1m413/413\u001b[0m \u001b[32m━━━━━━━━━━━━━━━━━━━━\u001b[0m\u001b[37m\u001b[0m \u001b[1m1s\u001b[0m 2ms/step - loss: 0.2378 - mae: 0.3366 - val_loss: 0.2750 - val_mae: 0.3522\n",
            "Epoch 70/100\n",
            "\u001b[1m413/413\u001b[0m \u001b[32m━━━━━━━━━━━━━━━━━━━━\u001b[0m\u001b[37m\u001b[0m \u001b[1m1s\u001b[0m 2ms/step - loss: 0.2386 - mae: 0.3350 - val_loss: 0.2767 - val_mae: 0.3518\n",
            "Epoch 71/100\n",
            "\u001b[1m413/413\u001b[0m \u001b[32m━━━━━━━━━━━━━━━━━━━━\u001b[0m\u001b[37m\u001b[0m \u001b[1m1s\u001b[0m 2ms/step - loss: 0.2397 - mae: 0.3376 - val_loss: 0.2710 - val_mae: 0.3538\n",
            "Epoch 72/100\n",
            "\u001b[1m413/413\u001b[0m \u001b[32m━━━━━━━━━━━━━━━━━━━━\u001b[0m\u001b[37m\u001b[0m \u001b[1m1s\u001b[0m 2ms/step - loss: 0.2350 - mae: 0.3343 - val_loss: 0.2734 - val_mae: 0.3515\n",
            "Epoch 73/100\n",
            "\u001b[1m413/413\u001b[0m \u001b[32m━━━━━━━━━━━━━━━━━━━━\u001b[0m\u001b[37m\u001b[0m \u001b[1m1s\u001b[0m 2ms/step - loss: 0.2355 - mae: 0.3342 - val_loss: 0.2827 - val_mae: 0.3592\n",
            "Epoch 74/100\n",
            "\u001b[1m413/413\u001b[0m \u001b[32m━━━━━━━━━━━━━━━━━━━━\u001b[0m\u001b[37m\u001b[0m \u001b[1m1s\u001b[0m 2ms/step - loss: 0.2276 - mae: 0.3290 - val_loss: 0.2757 - val_mae: 0.3535\n",
            "Epoch 75/100\n",
            "\u001b[1m413/413\u001b[0m \u001b[32m━━━━━━━━━━━━━━━━━━━━\u001b[0m\u001b[37m\u001b[0m \u001b[1m2s\u001b[0m 3ms/step - loss: 0.2332 - mae: 0.3325 - val_loss: 0.2665 - val_mae: 0.3485\n",
            "Epoch 76/100\n",
            "\u001b[1m413/413\u001b[0m \u001b[32m━━━━━━━━━━━━━━━━━━━━\u001b[0m\u001b[37m\u001b[0m \u001b[1m1s\u001b[0m 4ms/step - loss: 0.2294 - mae: 0.3313 - val_loss: 0.2681 - val_mae: 0.3549\n",
            "Epoch 77/100\n",
            "\u001b[1m413/413\u001b[0m \u001b[32m━━━━━━━━━━━━━━━━━━━━\u001b[0m\u001b[37m\u001b[0m \u001b[1m2s\u001b[0m 2ms/step - loss: 0.2220 - mae: 0.3261 - val_loss: 0.2717 - val_mae: 0.3520\n",
            "Epoch 78/100\n",
            "\u001b[1m413/413\u001b[0m \u001b[32m━━━━━━━━━━━━━━━━━━━━\u001b[0m\u001b[37m\u001b[0m \u001b[1m1s\u001b[0m 2ms/step - loss: 0.2372 - mae: 0.3373 - val_loss: 0.2732 - val_mae: 0.3583\n",
            "Epoch 79/100\n",
            "\u001b[1m413/413\u001b[0m \u001b[32m━━━━━━━━━━━━━━━━━━━━\u001b[0m\u001b[37m\u001b[0m \u001b[1m1s\u001b[0m 2ms/step - loss: 0.2326 - mae: 0.3327 - val_loss: 0.2746 - val_mae: 0.3601\n",
            "Epoch 80/100\n",
            "\u001b[1m413/413\u001b[0m \u001b[32m━━━━━━━━━━━━━━━━━━━━\u001b[0m\u001b[37m\u001b[0m \u001b[1m1s\u001b[0m 2ms/step - loss: 0.2385 - mae: 0.3360 - val_loss: 0.2690 - val_mae: 0.3487\n",
            "Epoch 81/100\n",
            "\u001b[1m413/413\u001b[0m \u001b[32m━━━━━━━━━━━━━━━━━━━━\u001b[0m\u001b[37m\u001b[0m \u001b[1m1s\u001b[0m 3ms/step - loss: 0.2407 - mae: 0.3388 - val_loss: 0.2705 - val_mae: 0.3469\n",
            "Epoch 82/100\n",
            "\u001b[1m413/413\u001b[0m \u001b[32m━━━━━━━━━━━━━━━━━━━━\u001b[0m\u001b[37m\u001b[0m \u001b[1m2s\u001b[0m 2ms/step - loss: 0.2323 - mae: 0.3311 - val_loss: 0.2827 - val_mae: 0.3653\n",
            "Epoch 83/100\n",
            "\u001b[1m413/413\u001b[0m \u001b[32m━━━━━━━━━━━━━━━━━━━━\u001b[0m\u001b[37m\u001b[0m \u001b[1m1s\u001b[0m 2ms/step - loss: 0.2368 - mae: 0.3355 - val_loss: 0.2637 - val_mae: 0.3455\n",
            "Epoch 84/100\n",
            "\u001b[1m413/413\u001b[0m \u001b[32m━━━━━━━━━━━━━━━━━━━━\u001b[0m\u001b[37m\u001b[0m \u001b[1m2s\u001b[0m 3ms/step - loss: 0.2215 - mae: 0.3263 - val_loss: 0.2661 - val_mae: 0.3522\n",
            "Epoch 85/100\n",
            "\u001b[1m413/413\u001b[0m \u001b[32m━━━━━━━━━━━━━━━━━━━━\u001b[0m\u001b[37m\u001b[0m \u001b[1m2s\u001b[0m 2ms/step - loss: 0.2404 - mae: 0.3344 - val_loss: 0.2730 - val_mae: 0.3561\n",
            "Epoch 86/100\n",
            "\u001b[1m413/413\u001b[0m \u001b[32m━━━━━━━━━━━━━━━━━━━━\u001b[0m\u001b[37m\u001b[0m \u001b[1m1s\u001b[0m 2ms/step - loss: 0.2229 - mae: 0.3273 - val_loss: 0.2675 - val_mae: 0.3504\n",
            "Epoch 87/100\n",
            "\u001b[1m413/413\u001b[0m \u001b[32m━━━━━━━━━━━━━━━━━━━━\u001b[0m\u001b[37m\u001b[0m \u001b[1m1s\u001b[0m 2ms/step - loss: 0.2157 - mae: 0.3221 - val_loss: 0.2633 - val_mae: 0.3479\n",
            "Epoch 88/100\n",
            "\u001b[1m413/413\u001b[0m \u001b[32m━━━━━━━━━━━━━━━━━━━━\u001b[0m\u001b[37m\u001b[0m \u001b[1m1s\u001b[0m 2ms/step - loss: 0.2210 - mae: 0.3272 - val_loss: 0.2891 - val_mae: 0.3721\n",
            "Epoch 89/100\n",
            "\u001b[1m413/413\u001b[0m \u001b[32m━━━━━━━━━━━━━━━━━━━━\u001b[0m\u001b[37m\u001b[0m \u001b[1m1s\u001b[0m 2ms/step - loss: 0.2269 - mae: 0.3323 - val_loss: 0.2682 - val_mae: 0.3592\n",
            "Epoch 90/100\n",
            "\u001b[1m413/413\u001b[0m \u001b[32m━━━━━━━━━━━━━━━━━━━━\u001b[0m\u001b[37m\u001b[0m \u001b[1m1s\u001b[0m 2ms/step - loss: 0.2199 - mae: 0.3243 - val_loss: 0.2774 - val_mae: 0.3525\n",
            "Epoch 91/100\n",
            "\u001b[1m413/413\u001b[0m \u001b[32m━━━━━━━━━━━━━━━━━━━━\u001b[0m\u001b[37m\u001b[0m \u001b[1m1s\u001b[0m 2ms/step - loss: 0.2242 - mae: 0.3282 - val_loss: 0.2685 - val_mae: 0.3545\n",
            "Epoch 92/100\n",
            "\u001b[1m413/413\u001b[0m \u001b[32m━━━━━━━━━━━━━━━━━━━━\u001b[0m\u001b[37m\u001b[0m \u001b[1m1s\u001b[0m 2ms/step - loss: 0.2325 - mae: 0.3302 - val_loss: 0.2727 - val_mae: 0.3532\n",
            "Epoch 93/100\n",
            "\u001b[1m413/413\u001b[0m \u001b[32m━━━━━━━━━━━━━━━━━━━━\u001b[0m\u001b[37m\u001b[0m \u001b[1m1s\u001b[0m 2ms/step - loss: 0.2217 - mae: 0.3254 - val_loss: 0.2774 - val_mae: 0.3570\n",
            "Epoch 94/100\n",
            "\u001b[1m413/413\u001b[0m \u001b[32m━━━━━━━━━━━━━━━━━━━━\u001b[0m\u001b[37m\u001b[0m \u001b[1m1s\u001b[0m 3ms/step - loss: 0.2230 - mae: 0.3266 - val_loss: 0.2720 - val_mae: 0.3504\n",
            "Epoch 95/100\n",
            "\u001b[1m413/413\u001b[0m \u001b[32m━━━━━━━━━━━━━━━━━━━━\u001b[0m\u001b[37m\u001b[0m \u001b[1m2s\u001b[0m 3ms/step - loss: 0.2241 - mae: 0.3221 - val_loss: 0.2717 - val_mae: 0.3528\n",
            "Epoch 96/100\n",
            "\u001b[1m413/413\u001b[0m \u001b[32m━━━━━━━━━━━━━━━━━━━━\u001b[0m\u001b[37m\u001b[0m \u001b[1m1s\u001b[0m 3ms/step - loss: 0.2219 - mae: 0.3265 - val_loss: 0.2803 - val_mae: 0.3660\n",
            "Epoch 97/100\n",
            "\u001b[1m413/413\u001b[0m \u001b[32m━━━━━━━━━━━━━━━━━━━━\u001b[0m\u001b[37m\u001b[0m \u001b[1m1s\u001b[0m 2ms/step - loss: 0.2303 - mae: 0.3303 - val_loss: 0.2668 - val_mae: 0.3498\n",
            "Epoch 98/100\n",
            "\u001b[1m413/413\u001b[0m \u001b[32m━━━━━━━━━━━━━━━━━━━━\u001b[0m\u001b[37m\u001b[0m \u001b[1m1s\u001b[0m 2ms/step - loss: 0.2191 - mae: 0.3262 - val_loss: 0.2657 - val_mae: 0.3506\n",
            "Epoch 99/100\n",
            "\u001b[1m413/413\u001b[0m \u001b[32m━━━━━━━━━━━━━━━━━━━━\u001b[0m\u001b[37m\u001b[0m \u001b[1m1s\u001b[0m 2ms/step - loss: 0.2357 - mae: 0.3351 - val_loss: 0.2720 - val_mae: 0.3564\n",
            "Epoch 100/100\n",
            "\u001b[1m413/413\u001b[0m \u001b[32m━━━━━━━━━━━━━━━━━━━━\u001b[0m\u001b[37m\u001b[0m \u001b[1m1s\u001b[0m 2ms/step - loss: 0.2220 - mae: 0.3262 - val_loss: 0.2691 - val_mae: 0.3453\n",
            "Tiempo de entrenamiento: 129.74 segundos\n"
          ]
        }
      ]
    },
    {
      "cell_type": "markdown",
      "source": [
        "### **Paso 5: Graficar el progreso del entrenamiento**"
      ],
      "metadata": {
        "id": "q5wh_E1JX_6v"
      }
    },
    {
      "cell_type": "code",
      "source": [
        "# Graficar la pérdida (MSE) durante el entrenamiento y la validación\n",
        "plt.plot(history.history['loss'], label='Train Loss')\n",
        "plt.plot(history.history['val_loss'], label='Validation Loss')\n",
        "plt.xlabel('Epoch')\n",
        "plt.ylabel('MSE Loss')\n",
        "plt.title('Curva de Pérdida durante el Entrenamiento')\n",
        "plt.legend()\n",
        "plt.grid(True)\n",
        "plt.show()\n",
        "\n",
        "# Graficar el MAE (Error Absoluto Medio) durante el entrenamiento y la validación\n",
        "plt.plot(history.history['mae'], label='Train MAE')\n",
        "plt.plot(history.history['val_mae'], label='Validation MAE')\n",
        "plt.xlabel('Epoch')\n",
        "plt.ylabel('MAE')\n",
        "plt.title('Curva de MAE durante el Entrenamiento')\n",
        "plt.legend()\n",
        "plt.grid(True)\n",
        "plt.show()"
      ],
      "metadata": {
        "colab": {
          "base_uri": "https://localhost:8080/",
          "height": 853
        },
        "id": "Tlj_z8ruYCKD",
        "outputId": "b4c24afd-1dd3-444a-b9d2-9f893e45e950"
      },
      "execution_count": 20,
      "outputs": [
        {
          "output_type": "display_data",
          "data": {
            "text/plain": [
              "<Figure size 640x440 with 1 Axes>"
            ],
            "image/png": "[encoded data removed]"
          },
          "metadata": {}
        },
        {
          "output_type": "display_data",
          "data": {
            "text/plain": [
              "<Figure size 640x440 with 1 Axes>"
            ],
            "image/png": "[encoded data removed]"
          },
          "metadata": {}
        }
      ]
    },
    {
      "cell_type": "markdown",
      "source": [
        "### **Paso 6: Evaluar el modelo en el conjunto de prueba**"
      ],
      "metadata": {
        "id": "Es0mxTuNYEJ_"
      }
    },
    {
      "cell_type": "code",
      "source": [
        "# Evaluar el modelo en el conjunto de prueba\n",
        "test_loss, test_mae = model.evaluate(X_test, y_test, verbose=0)\n",
        "print(f\"MAE en conjunto de prueba: {test_mae:.4f}\")\n"
      ],
      "metadata": {
        "colab": {
          "base_uri": "https://localhost:8080/"
        },
        "id": "1RT6OJ6iYIxY",
        "outputId": "5569e1d3-2f26-435e-c74f-237c46461c9c"
      },
      "execution_count": 21,
      "outputs": [
        {
          "output_type": "stream",
          "name": "stdout",
          "text": [
            "MAE en conjunto de prueba: 0.3460\n"
          ]
        }
      ]
    },
    {
      "cell_type": "markdown",
      "source": [
        "### **Paso 7: Realizar predicciones con el modelo entrenado**\n"
      ],
      "metadata": {
        "id": "56CNJKhaYb5o"
      }
    },
    {
      "cell_type": "code",
      "source": [
        "# Realizar predicciones en el conjunto de prueba\n",
        "y_pred = model.predict(X_test)\n",
        "\n",
        "# Graficar los valores reales vs. las predicciones\n",
        "plt.scatter(y_test, y_pred, alpha=0.5)\n",
        "plt.xlabel('Valor Real')\n",
        "plt.ylabel('Predicción')\n",
        "plt.xlim(0,4.9)\n",
        "plt.title('Valores Reales vs. Predicciones')\n",
        "plt.grid(True)\n",
        "plt.show()"
      ],
      "metadata": {
        "colab": {
          "base_uri": "https://localhost:8080/",
          "height": 453
        },
        "id": "fpyQQFD0Yntv",
        "outputId": "a85d5947-9310-4189-d842-965db75f0c27"
      },
      "execution_count": 22,
      "outputs": [
        {
          "output_type": "stream",
          "name": "stdout",
          "text": [
            "\u001b[1m129/129\u001b[0m \u001b[32m━━━━━━━━━━━━━━━━━━━━\u001b[0m\u001b[37m\u001b[0m \u001b[1m0s\u001b[0m 1ms/step\n"
          ]
        },
        {
          "output_type": "display_data",
          "data": {
            "text/plain": [
              "<Figure size 640x440 with 1 Axes>"
            ],
            "image/png": "[encoded data removed]"
          },
          "metadata": {}
        }
      ]
    },
    {
      "cell_type": "markdown",
      "source": [
        "\n",
        "### **Paso 8: Detectar overfitting (sobreajuste)**\n",
        "\n",
        "Si la pérdida en entrenamiento es significativamente menor que la pérdida en validación, esto podría ser un signo de **overfitting**. En este caso, podríamos:\n",
        "\n",
        "1. Aumentar el **Dropout**.\n",
        "2. Reducir la **complejidad del modelo** (menos neuronas o capas).\n",
        "3. Aumentar la cantidad de **datos** si es posible.\n",
        "4. Usar **regularización** L2 o early stopping para detener el entrenamiento antes de tiempo.\n",
        "\n",
        "---\n",
        "\n",
        "### **Paso 9: Explicación del proceso de regresión**\n",
        "\n",
        "1. **Regresión vs. Clasificación:** A diferencia de la clasificación, en la regresión el modelo intenta predecir un valor continuo.\n",
        "2. **Función de pérdida:** Utilizamos el **MSE** (Mean Squared Error) porque penaliza más los errores grandes.\n",
        "3. **Evaluación:** El MAE (Mean Absolute Error) nos permite medir cuán lejos, en promedio, están las predicciones del valor real.\n",
        "4. **Escalado de datos:** Es importante escalar los datos para mejorar la convergencia del modelo y evitar que una característica domine a las demás.\n",
        "\n",
        "---\n",
        "\n",
        "### **Para recordar...**\n",
        "El parámetro `verbose` en **Keras** controla el nivel de detalle que se muestra durante el entrenamiento de un modelo. Veamos las diferentes opciones:\n",
        "\n",
        "### **Valores posibles de `verbose`:**\n",
        "- **`verbose=0`**: No muestra ninguna salida en la consola. El entrenamiento se ejecuta en silencio.\n",
        "- **`verbose=1`**: Muestra una barra de progreso para cada época junto con la métrica seleccionada (por ejemplo, `loss`, `mae`, `accuracy`, etc.).\n",
        "- **`verbose=2`**: Muestra un resumen en texto de cada época, sin la barra de progreso.\n",
        "\n",
        "---\n",
        "Aunque el optimizador Adam (Adaptive Moment Estimation) tiene la ventaja de ajustar automáticamente las tasas de aprendizaje a lo largo del entrenamiento, aún es útil definir una tasa de aprendizaje inicial para controlar el comportamiento del modelo, especialmente al inicio del entrenamiento.\n",
        "\n",
        "---\n",
        "\n",
        "### **Conclusión**\n",
        "\n",
        "Diseñamos y entrenamos una **red neuronal para regresión** usando el dataset de **California Housing** con **Keras**. Exploramos cada paso del proceso: desde la carga de datos y preprocesamiento, hasta la definición de la arquitectura del modelo y evaluación del rendimiento en el conjunto de prueba. También discutimos cómo identificar y mitigar el **overfitting** para garantizar un modelo más robusto.\n",
        "\n",
        "Este ejemplo demuestra cómo las **redes neuronales** se pueden aplicar no solo a tareas de clasificación, sino también a problemas de **regresión**, donde se busca predecir valores continuos como el precio de las viviendas."
      ],
      "metadata": {
        "id": "qCvoFnxOYYe3"
      }
    }
  ]
}